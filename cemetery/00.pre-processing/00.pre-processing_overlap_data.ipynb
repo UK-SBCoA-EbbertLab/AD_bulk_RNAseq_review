{
 "cells": [
  {
   "cell_type": "code",
   "execution_count": 1,
   "id": "467021cd-e075-4e12-99d5-f1290dcc50f1",
   "metadata": {},
   "outputs": [],
   "source": [
    "## Load libraries\n",
    "import pandas as pd\n",
    "import numpy as np\n",
    "import mygene\n",
    "\n",
    "## Display all rows of pandas dataframes\n",
    "pd.set_option('display.max_rows', None)\n",
    "pd.set_option('display.max_colwidth', None)\n",
    "\n",
    "# Opt into the future behavior for silent downcasting\n",
    "pd.set_option('future.no_silent_downcasting', True)"
   ]
  },
  {
   "cell_type": "code",
   "execution_count": 2,
   "id": "8b9e7a9b-95ef-442f-9d13-e94cfa9ae7f4",
   "metadata": {},
   "outputs": [],
   "source": [
    "def unify_gene_ids_and_symbols(df):\n",
    "\n",
    "    ## Make a copy to use in function\n",
    "    dff = df.copy()\n",
    "    \n",
    "    ## Take out . from ensembl ids\n",
    "    dff[\"gene_id\"] = dff[\"gene_id\"].str.split(\".\", expand=True)[0]\n",
    "\n",
    "    # Standardize all NaN-like values to pd.NA\n",
    "    dff = dff.replace({np.nan: pd.NA, None: pd.NA})\n",
    "\n",
    "    ## Set gene ids that are not ensembl IDs to NA\n",
    "    dff['gene_id'] = dff['gene_id'].apply(lambda x: x if pd.isna(x) or str(x).startswith('ENS') else pd.NA)\n",
    "\n",
    "    ## Get all the unique gene_id and gene_symbols\n",
    "    df_ids = dff[\"gene_id\"].copy().drop_duplicates(inplace=False).dropna(inplace=False).to_list()\n",
    "    df_symbols = dff[\"gene_symbol\"].copy().drop_duplicates(inplace=False).dropna(inplace=False).to_list()\n",
    "\n",
    "    ## Query by gene_ids and gene_symbols\n",
    "    mg = mygene.MyGeneInfo()\n",
    "    results_id_query = mg.querymany(df_ids, scopes='symbol,alias,name,ensembl.gene,ensembl.transcript', fields='symbol,ensembl.gene', species='human', as_dataframe=True, df_index=False, returnall=False)\n",
    "    results_symbol_query = mg.querymany(df_symbols, scopes='symbol,alias,name,ensembl.gene,ensembl.transcript', fields='symbol,ensembl.gene', species='human', as_dataframe=True, df_index=False, returnall=False)\n",
    "\n",
    "    ## Delete duplicates, only keep highest value\n",
    "    results_id_query = results_id_query.sort_values(by=['query', '_score'], ascending=[True, False]).drop_duplicates(subset='query', keep='first')\n",
    "    results_symbol_query = results_symbol_query.sort_values(by=['query', '_score'], ascending=[True, False]).drop_duplicates(subset='query', keep='first')\n",
    "    \n",
    "    # Ensure that the column 'ensembl' is of string type, which allows the use of string methods\n",
    "    results_id_query[\"ensembl\"] = results_id_query[\"ensembl\"].astype(str)\n",
    "    results_symbol_query[\"ensembl\"] = results_symbol_query[\"ensembl\"].astype(str)\n",
    "    \n",
    "    # Split the strings and handle NaNs by chaining the .str methods\n",
    "    results_id_query[\"first_ensembl\"] = results_id_query[\"ensembl\"].str.split(\":\", expand=True)[1].str.split(\"'\", expand=True)[1]\n",
    "    results_symbol_query[\"first_ensembl\"] = results_symbol_query[\"ensembl\"].str.split(\":\", expand=True)[1].str.split(\"'\", expand=True)[1]\n",
    "\n",
    "    \n",
    "    # Standardize all NaN-like values to pd.NA\n",
    "    results_id_query = results_id_query.replace({np.nan: pd.NA, None: pd.NA, \"nan\": pd.NA})\n",
    "    results_symbol_query = results_symbol_query.replace({np.nan: pd.NA, None: pd.NA, \"nan\": pd.NA})\n",
    "    \n",
    "    # Fill NA values in 'ensembl.gene' column with values from 'first_ensembl' column\n",
    "    results_id_query['ensembl.gene'] = results_id_query['ensembl.gene'].copy().fillna(results_id_query['first_ensembl'], inplace=False)\n",
    "    results_symbol_query['ensembl.gene'] = results_symbol_query['ensembl.gene'].copy().fillna(results_symbol_query['first_ensembl'], inplace=False)\n",
    "\n",
    "    ## Only keep relevant columns\n",
    "    results_id_query = results_id_query[[\"query\", \"ensembl.gene\", \"symbol\"]].copy()\n",
    "    results_symbol_query = results_symbol_query[[\"query\", \"ensembl.gene\", \"symbol\"]].copy()\n",
    "\n",
    "    ## Rename columns\n",
    "    results_id_query.columns = [\"gene_id\", \"from_id_ensembl_id\", \"from_id_official_gene_symbol\"]\n",
    "    results_symbol_query.columns = [\"gene_symbol\", \"from_symbol_ensembl_id\", \"from_symbol_official_gene_symbol\"]\n",
    "\n",
    "    results_id_query.drop_duplicates(inplace=True)\n",
    "    results_symbol_query.drop_duplicates(inplace=True)\n",
    "\n",
    "    \n",
    "    ## Merge with original dataframe\n",
    "    dff = dff.merge(results_id_query, how=\"left\", on=\"gene_id\")\n",
    "    dff = dff.merge(results_symbol_query, how=\"left\", on=\"gene_symbol\")\n",
    "\n",
    "    ## Combine results from both approaches (symbol and id)\n",
    "    dff['ensembl_id'] = dff['from_id_ensembl_id'].copy().fillna(dff['from_symbol_ensembl_id'], inplace=False)\n",
    "    dff['official_symbol'] = dff['from_id_official_gene_symbol'].copy().fillna(dff['from_symbol_official_gene_symbol'], inplace=False)\n",
    "\n",
    "    ## Drop intermediate columns\n",
    "    dff.drop(columns=[\"from_id_ensembl_id\", \"from_id_official_gene_symbol\", \"from_symbol_ensembl_id\", \"from_symbol_official_gene_symbol\", \"gene_id\", \"gene_symbol\"], inplace=True)\n",
    "\n",
    "    ## Drop anything that is missing both ensembl_id and official_symbol\n",
    "    dff.dropna(subset=[\"ensembl_id\", \"official_symbol\"], how=\"all\", inplace=True)\n",
    "    \n",
    "    ## Drop Duplicates\n",
    "    dff.drop_duplicates(inplace=True)\n",
    "    \n",
    "    ## Make ensembl id and official symbol the first two columns \n",
    "    dff = dff[dff.columns[-2:].tolist() + dff.columns[:-2].tolist()].copy()\n",
    "\n",
    "    return dff"
   ]
  },
  {
   "cell_type": "code",
   "execution_count": 3,
   "id": "15a11e25-6193-4f49-889a-b35993da3a47",
   "metadata": {},
   "outputs": [],
   "source": [
    "## Import Data\n",
    "df = pd.read_csv(\"../../data/raw_data/overlap_analysis/all_studies_ad_vs_healthy_control_DEG_overlap.csv\")"
   ]
  },
  {
   "cell_type": "code",
   "execution_count": 4,
   "id": "928a394d-9bae-4f60-abf6-8d0031e74c58",
   "metadata": {},
   "outputs": [],
   "source": [
    "## Fix name for Marques-Coelho and Fisher studies\n",
    "df.loc[df[\"study\"] == \"Marques-Coelho\", \"study\"] = \"Marques-Coelho et al.\"\n",
    "df.loc[df[\"study\"] == \"Fischer et al.\", \"study\"] = \"Fisher et al.\""
   ]
  },
  {
   "cell_type": "code",
   "execution_count": 5,
   "id": "88d609f8-4043-47dd-8327-6e3eba6780e2",
   "metadata": {},
   "outputs": [],
   "source": [
    "## Import quality assessment information more throroughly from table 3\n",
    "df_qa = pd.read_excel(\"../../tables/table_3.xlsx\")"
   ]
  },
  {
   "cell_type": "code",
   "execution_count": 6,
   "id": "fd4fa4c5-8e49-4e40-874f-18ce6e945bba",
   "metadata": {},
   "outputs": [],
   "source": [
    "## Fix name for Panitch study\n",
    "df_qa.loc[df_qa[\"Study\"] == \"Panich et al.\", \"Study\"] = \"Panitch et al.\""
   ]
  },
  {
   "cell_type": "code",
   "execution_count": 7,
   "id": "41bc0306-c7ce-419e-b629-0404b587def9",
   "metadata": {},
   "outputs": [],
   "source": [
    "## Only keep studies with DGE information\n",
    "df_qa = df_qa.loc[df_qa[\"Study\"].isin(df[\"study\"])].copy()"
   ]
  },
  {
   "cell_type": "code",
   "execution_count": 8,
   "id": "36b88efe-4d76-4136-b3cd-0bdabc01ac18",
   "metadata": {},
   "outputs": [],
   "source": [
    "### Drop studies that do not fit the inclusion criteria for the pathway meta-analysis. See table 2 for details on quality assessment scoring\n",
    "\n",
    "## Only keep studies with DGE information\n",
    "df_qa = df_qa.loc[df_qa[\"Study\"].isin(df[\"study\"])]\n",
    "\n",
    "## Quality assessment average score > 1.5\n",
    "df_qa = df_qa.loc[df_qa[\"Average_score\"] > 1.5].copy()\n",
    "\n",
    "## Statistical rigor quality assessment score >= 2\n",
    "df_qa = df_qa.loc[df_qa[\"Statistical_rigor\"] >= 2].copy()\n",
    "\n",
    "## AD diagnosis criteria quality assessment score = 3\n",
    "df_qa = df_qa.loc[df_qa[\"AD_diagnosis_criteria\"] == 3].copy()"
   ]
  },
  {
   "cell_type": "code",
   "execution_count": 9,
   "id": "9414cfd9-5d98-4d3a-bc96-ed226486d744",
   "metadata": {},
   "outputs": [
    {
     "name": "stdout",
     "output_type": "stream",
     "text": [
      "There were with differential gene expression gene lists available to begin with 17 studies to begin with\n"
     ]
    }
   ],
   "source": [
    "## Show how many studies we began with\n",
    "print(\"There were with differential gene expression gene lists available to begin with\", str(df[\"study\"].nunique()), \"studies to begin with\")"
   ]
  },
  {
   "cell_type": "code",
   "execution_count": 10,
   "id": "d9358a5f-33f8-44fe-8d99-ecc6663e6640",
   "metadata": {},
   "outputs": [
    {
     "name": "stdout",
     "output_type": "stream",
     "text": [
      "The studies:\n",
      "\n",
      " ['Cho et al.' 'Felsky et al.' 'Guennewig et al.' 'Jia et al.' 'Lee et al.'\n",
      " 'Luo et al.' 'Mills et al.' 'van Rooij et al.'] \n",
      "\n",
      "were removed because they did not pass filtering thresholds for pathway meta-analysis:\n",
      "Study quality assessment average score > 1.5\n",
      "Statistical rigor quality assessment score >= 2\n",
      "AD diagnostic criteria quality assessment score = 3\n"
     ]
    }
   ],
   "source": [
    "## Show dropped studies\n",
    "print(\"The studies:\\n\\n\", str(df.loc[~df[\"study\"].isin(df_qa[\"Study\"])][\"study\"].unique()), \n",
    "      \"\\n\\nwere removed because they did not pass filtering thresholds for pathway meta-analysis:\\nStudy quality assessment average score > 1.5\\nStatistical rigor quality assessment score >= 2\\nAD diagnostic criteria quality assessment score = 3\")"
   ]
  },
  {
   "cell_type": "code",
   "execution_count": 11,
   "id": "a14117ab-7f4c-4932-a216-5ff945c08719",
   "metadata": {},
   "outputs": [
    {
     "name": "stdout",
     "output_type": "stream",
     "text": [
      "There were 9 studies that passsed pathway meta-analysis filtering\n"
     ]
    }
   ],
   "source": [
    "## Drop studies not passing filtering criteria\n",
    "df = df.loc[df[\"study\"].isin(df_qa[\"Study\"])].copy()\n",
    "\n",
    "print(\"There were\", str(df[\"study\"].nunique()), \"studies that passsed pathway meta-analysis filtering\")"
   ]
  },
  {
   "cell_type": "code",
   "execution_count": 12,
   "id": "a7a04e12-15ff-4152-ae0c-d4dcd9f6252e",
   "metadata": {},
   "outputs": [
    {
     "name": "stdout",
     "output_type": "stream",
     "text": [
      "The studies [Annese et al., Magistry et al.] were excluded from the pathway meta-analysis because there were only two hippocampal studies/datasets\n",
      "left after filtering\n",
      "\n",
      "There were 7 studies left after filtering out the brain regions represented in less than 3 studies/datasets\n"
     ]
    }
   ],
   "source": [
    "## Remove under represented brain regions or brain regions that were not specified well\n",
    "print(\"The studies [Annese et al., Magistry et al.] were excluded from the pathway meta-analysis because there were only two hippocampal studies/datasets\\nleft after filtering\")\n",
    "\n",
    "df = df.loc[~df[\"study\"].isin([\"Annese et al.\", \"Magistry et al.\"])].copy()\n",
    "\n",
    "print(\"\\nThere were\", str(df[\"study\"].nunique()), \"studies left after filtering out the brain regions represented in less than 3 studies/datasets\")"
   ]
  },
  {
   "cell_type": "code",
   "execution_count": 13,
   "id": "afd8a2b2-7ad9-486f-afcb-7886b30f3820",
   "metadata": {},
   "outputs": [],
   "source": [
    "## Add specifier to study tag of Marques-Coelho data since we are dealing with 6 different datasets\n",
    "\n",
    "df.loc[df[\"brain_region\"] == \"Temporal Lobe (MAYO)\", \"study\"] = df[\"study\"] + \" (MAYO)\"\n",
    "df.loc[df[\"brain_region\"] == \"Frontal Lobe (MSSB BA10)\", \"study\"] = df[\"study\"] + \" (MSSB BA10)\"\n",
    "df.loc[df[\"brain_region\"] == \"Temporal Lobe (MSSB BA22)\", \"study\"] = df[\"study\"] + \" (MSSB BA22)\"\n",
    "df.loc[df[\"brain_region\"] == \"Temporal Lobe (MSSB BA36)\", \"study\"] = df[\"study\"] + \" (MSSB BA36)\"\n",
    "df.loc[df[\"brain_region\"] == \"Frontal Lobe (MSBB BA44)\", \"study\"] = df[\"study\"] + \" (MSSB BA44)\"\n",
    "df.loc[df[\"brain_region\"] == \"Frontal Lobe (ROSMAP)\", \"study\"] = df[\"study\"] + \" (ROSMAP)\""
   ]
  },
  {
   "cell_type": "code",
   "execution_count": 14,
   "id": "a4ef59cf-f5e2-4083-ade6-5c53b4793bb8",
   "metadata": {},
   "outputs": [],
   "source": [
    "## Convert the names\n",
    "\n",
    "df['brain_region'] = df['brain_region'].replace({'hippocampal CA1 region': 'Hippocampus', \"anterior temporal lobe\\xa0\": \"Temporal Lobe\", \"superior temporal gyrus\": \"Temporal Lobe\",\n",
    "                           \"temporal cortex\": \"Temporal Lobe\", 'prefrontal cortex': \"Frontal Lobe\", \"precuneus\": \"Parietal Lobe\", \"Temporal Cortex (BA20)\": \"Temporal Lobe\",\n",
    "                           \"Temporal Lobe (Superior Temporal Lobe)\": \"Temporal Lobe\", \"Temporal Lobe (MAYO)\": \"Temporal Lobe\", \"Frontal Lobe (MSSB BA10)\": \"Frontal Lobe\",\n",
    "                           'Temporal Lobe (MSSB BA22)': \"Temporal Lobe\", 'Temporal Lobe (MSSB BA36)': \"Temporal Lobe\", 'Frontal Lobe (MSBB BA44)': \"Frontal Lobe\", 'Frontal Lobe (ROSMAP)': \"Frontal Lobe\",\n",
    "                           'Frontal Lobe (Dorsolateral pre-frontal cortex)': \"Frontal Lobe\", 'Middle temporal gyrus': \"Temporal Lobe\",\n",
    "                           'Hippocampus (dentate gyrus and cornu amonis)': \"Hippocampus\", \"superior temporal gyrus \": \"Temporal Lobe\"}, inplace=False)"
   ]
  },
  {
   "cell_type": "code",
   "execution_count": 15,
   "id": "2188acf6-b3ee-4c81-adb5-80b179e2089e",
   "metadata": {},
   "outputs": [],
   "source": [
    "## Das et al. was dropped due to not performing analysis on \"general\" brain tissue and instead focusing on laser \n",
    "## captured subsections near of farther from pathology\n",
    "df = df.loc[df[\"study\"] != \"Das et al.\"].copy()\n",
    "\n",
    "## Panitch et al. was dropped because they don't provide results for only their original cohort. They only provides results for a meta-analysis including\n",
    "## ROSMAP and MAYO data that is also present in Marques-Coelho et al.\n",
    "df = df.loc[df[\"study\"] != \"Panitch et al.\"].copy()"
   ]
  },
  {
   "cell_type": "code",
   "execution_count": 16,
   "id": "8aed5834-9bc0-4991-bf9c-b144d57c548d",
   "metadata": {},
   "outputs": [
    {
     "name": "stdout",
     "output_type": "stream",
     "text": [
      "There were 5 studies and 10 datasets left after filtering out studies that did not fit other inclusion criteria\n"
     ]
    }
   ],
   "source": [
    "print(\"There were 5 studies and 10 datasets left after filtering out studies that did not fit other inclusion criteria\")"
   ]
  },
  {
   "cell_type": "code",
   "execution_count": 17,
   "id": "c55725ee-a168-415b-9927-c87d8dd12a38",
   "metadata": {},
   "outputs": [],
   "source": [
    "## Remove extra information from ensembl ids\n",
    "df[\"gene_id\"] = df[\"gene_id\"].str.split(\".\", expand=True)[0]"
   ]
  },
  {
   "cell_type": "code",
   "execution_count": 18,
   "id": "45039bd0-4482-4175-ac5a-14ecc3186d00",
   "metadata": {},
   "outputs": [
    {
     "name": "stderr",
     "output_type": "stream",
     "text": [
      "71 input query terms found no hit:\t['ENSG00000204282', 'ENSG00000239665', 'ENSG00000213029', 'ENSG00000255823', 'ENSG00000183729', 'ENS\n",
      "2045 input query terms found dup hits:\t[('NUTM2A', 2), ('PPEF1', 3), ('OSTN', 2), ('FRMPD2', 2), ('HCRTR2', 2), ('PPDPF', 5), ('RAB7B', 2),\n",
      "636 input query terms found no hit:\t['4-Mar', '8-Mar', 'AC009063.2', 'AL162171.1', 'AC007546.3', 'AC118549.1', 'AL031056.1', 'AL049840.3\n"
     ]
    }
   ],
   "source": [
    "## Create master dataframe\n",
    "master_df = unify_gene_ids_and_symbols(df)"
   ]
  },
  {
   "cell_type": "code",
   "execution_count": 19,
   "id": "7fe9cef9-4c56-464f-b613-1c348546f709",
   "metadata": {},
   "outputs": [
    {
     "name": "stdout",
     "output_type": "stream",
     "text": [
      "We lost 346 entries due to not finding a gene_name or gene_id in the database\n"
     ]
    }
   ],
   "source": [
    "## Number of entries lost due to not finding gene_name or gene_id in the database\n",
    "print(\"We lost\", str(df.shape[0] - master_df.shape[0]), \"entries due to not finding a gene_name or gene_id in the database\")"
   ]
  },
  {
   "cell_type": "code",
   "execution_count": 20,
   "id": "f08262da-3958-428a-a25a-b6d2b1a3c7b8",
   "metadata": {},
   "outputs": [],
   "source": [
    "## Create column that is the official gene symbol, unless that is NA, then make it the ensembl_id\n",
    "master_df['gene_name'] = master_df['ensembl_id'].fillna(master_df['official_symbol']).copy()\n",
    "\n",
    "## Make it the first column\n",
    "master_df = master_df[master_df.columns[-1:].tolist() + master_df.columns[:-1].tolist()]"
   ]
  },
  {
   "cell_type": "code",
   "execution_count": 21,
   "id": "c7bf57d7-1ad6-4a65-89ab-fbc471728203",
   "metadata": {},
   "outputs": [],
   "source": [
    "## Replace all the spaces with underscores in the study column to make it easier to save later\n",
    "master_df['study'] = master_df['study'].str.replace(' ', '_')\n",
    "master_df['study'] = master_df['study'].str.replace('.', '')\n",
    "master_df['study'] = master_df['study'].str.replace('(', '')\n",
    "master_df['study'] = master_df['study'].str.replace(')', '')"
   ]
  },
  {
   "cell_type": "code",
   "execution_count": 22,
   "id": "6ff30566-3300-4bf2-a482-887530fc6d35",
   "metadata": {},
   "outputs": [],
   "source": [
    "# Separate by study and brain region\n",
    "\n",
    "df_temporal = master_df.loc[master_df[\"brain_region\"] == \"Temporal Lobe\"].copy()\n",
    "\n",
    "df_frontal = master_df.loc[master_df[\"brain_region\"] == \"Frontal Lobe\"].copy()"
   ]
  },
  {
   "cell_type": "code",
   "execution_count": 23,
   "id": "87934d14-16fa-44b3-ade1-3d3e5b59a4d7",
   "metadata": {},
   "outputs": [],
   "source": [
    "## Separate up and downregulated genes\n",
    "\n",
    "df_temporal_up_in_AD = df_temporal.loc[df_temporal[\"is_upregulated_in_AD\"] == True].copy()\n",
    "df_temporal_down_in_AD = df_temporal.loc[df_temporal[\"is_upregulated_in_AD\"] == False].copy()\n",
    "\n",
    "df_frontal_up_in_AD = df_frontal.loc[df_frontal[\"is_upregulated_in_AD\"] == True].copy()\n",
    "df_frontal_down_in_AD = df_frontal.loc[df_frontal[\"is_upregulated_in_AD\"] == False].copy()"
   ]
  },
  {
   "cell_type": "code",
   "execution_count": 25,
   "id": "868649c5-ce18-499c-8142-672efccd1df8",
   "metadata": {},
   "outputs": [
    {
     "data": {
      "text/plain": [
       "{None}"
      ]
     },
     "execution_count": 25,
     "metadata": {},
     "output_type": "execute_result"
    }
   ],
   "source": [
    "## Separate each brain region by study and save it into a CSV file for each study + brain region combo\n",
    "\n",
    "{df_temporal_up_in_AD[df_temporal_up_in_AD['study'] == study][\"gene_name\"].to_csv(f\"../../data/processed_data/overlap_analysis/overlap_analysis_input/{study}_temporal_lobe_up_in_AD.csv\", index=False, header=False) for study in df_temporal_up_in_AD['study'].unique()}\n",
    "{df_temporal_down_in_AD[df_temporal_down_in_AD['study'] == study][\"gene_name\"].to_csv(f\"../../data/processed_data/overlap_analysis/overlap_analysis_input/{study}_temporal_lobe_down_in_AD.csv\", index=False, header=False) for study in df_temporal_down_in_AD['study'].unique()}\n",
    "\n",
    "{df_frontal_up_in_AD[df_frontal_up_in_AD['study'] == study][\"gene_name\"].to_csv(f\"../../data/processed_data/overlap_analysis/overlap_analysis_input/{study}_frontal_lobe_up_in_AD.csv\", index=False, header=False) for study in df_frontal_up_in_AD['study'].unique()}\n",
    "{df_frontal_down_in_AD[df_frontal_down_in_AD['study'] == study][\"gene_name\"].to_csv(f\"../../data/processed_data/overlap_analysis/overlap_analysis_input/{study}_frontal_lobe_down_in_AD.csv\", index=False, header=False) for study in df_frontal_down_in_AD['study'].unique()}"
   ]
  }
 ],
 "metadata": {
  "kernelspec": {
   "display_name": "Python 3 (ipykernel)",
   "language": "python",
   "name": "python3"
  },
  "language_info": {
   "codemirror_mode": {
    "name": "ipython",
    "version": 3
   },
   "file_extension": ".py",
   "mimetype": "text/x-python",
   "name": "python",
   "nbconvert_exporter": "python",
   "pygments_lexer": "ipython3",
   "version": "3.10.11"
  }
 },
 "nbformat": 4,
 "nbformat_minor": 5
}
