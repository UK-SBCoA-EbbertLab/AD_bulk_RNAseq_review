{
 "cells": [
  {
   "cell_type": "code",
   "execution_count": 1,
   "id": "ea4a49cc-e9a2-4dd9-aeb8-58806c5b31ea",
   "metadata": {},
   "outputs": [],
   "source": [
    "## Import Libraries\n",
    "import pandas as pd\n",
    "import numpy as np\n",
    "from matplotlib_venn import venn2, venn2_circles, venn2_unweighted\n",
    "from matplotlib_venn import venn3, venn3_circles\n",
    "from matplotlib import pyplot as plt\n",
    "%matplotlib inline\n",
    "import seaborn as sns\n",
    "from wordcloud import WordCloud\n",
    "import csv\n",
    "from supervenn import supervenn\n",
    "import os\n",
    "from scipy import stats\n",
    "from biomart import BiomartServer\n",
    "import io\n",
    "from matplotlib import rcParams\n",
    "import scipy.stats as stats\n",
    "\n",
    "\n",
    "## Display all rows of pandas dataframes\n",
    "pd.set_option('display.max_rows', None)\n",
    "pd.set_option('display.max_colwidth', None)"
   ]
  },
  {
   "cell_type": "code",
   "execution_count": 2,
   "id": "7b5b9c28-a0f9-4ab3-a08f-fee8da9d5dcb",
   "metadata": {},
   "outputs": [],
   "source": [
    "def fdr_correction(df, pval_column):\n",
    "    \"\"\"\n",
    "    Perform Benjamini-Hochberg FDR correction on the specified p-value column of a DataFrame.\n",
    "    \n",
    "    Parameters:\n",
    "    df (pd.DataFrame): The input DataFrame.\n",
    "    pval_column (str): The name of the column containing p-values to be corrected.\n",
    "    \n",
    "    Returns:\n",
    "    pd.DataFrame: The DataFrame with an additional column containing the FDR corrected p-values.\n",
    "    \"\"\"\n",
    "    # Sort the p-values and store the original indices\n",
    "    sorted_pvals = np.sort(df[pval_column])\n",
    "    original_indices = np.argsort(df[pval_column])\n",
    "    \n",
    "    # Calculate the rank of each p-value\n",
    "    ranks = np.arange(1, len(sorted_pvals) + 1)\n",
    "    \n",
    "    # Calculate the FDR correction\n",
    "    n = len(sorted_pvals)\n",
    "    adjusted_pvals = sorted_pvals * n / ranks\n",
    "    \n",
    "    # Ensure that the adjusted p-values are not greater than 1\n",
    "    adjusted_pvals = np.minimum(adjusted_pvals, 1)\n",
    "    \n",
    "    # Reverse the sorting\n",
    "    corrected_pvals = np.empty_like(adjusted_pvals)\n",
    "    corrected_pvals[original_indices] = adjusted_pvals\n",
    "    \n",
    "    # Add the corrected p-values as a new column\n",
    "    corrected_column_name = pval_column + '_FDR_corrected'\n",
    "    df[corrected_column_name] = corrected_pvals\n",
    "    \n",
    "    return df"
   ]
  },
  {
   "cell_type": "code",
   "execution_count": 3,
   "id": "75899fe0-6d21-4df9-8b12-be885ed8e176",
   "metadata": {},
   "outputs": [],
   "source": [
    "def scale_bp_by_chromosome(df):\n",
    "    \"\"\"\n",
    "    Scales the 'BP' column in a dataframe by dividing each entry by the maximum 'BP' entry \n",
    "    for the respective chromosome and then multiplying by 1,000,000.\n",
    "\n",
    "    Parameters:\n",
    "    df (pd.DataFrame): A dataframe containing at least two columns: \n",
    "                       'CHR' for chromosome and 'BP' for base pair positions.\n",
    "\n",
    "    Returns:\n",
    "    pd.DataFrame: A dataframe with the 'BP' column scaled for each chromosome, \n",
    "                  with a new 'Scaled_BP' column added.\n",
    "    \"\"\"\n",
    "    # Ensure the dataframe has the necessary columns\n",
    "    if 'CHR' not in df.columns or 'BP' not in df.columns:\n",
    "        raise ValueError(\"Dataframe must contain 'CHR' and 'BP' columns\")\n",
    "\n",
    "    # Create a copy of the dataframe to avoid modifying the original one\n",
    "    df_copy = df.copy()\n",
    "\n",
    "    # Create a new column 'Scaled_BP' to store the scaled values\n",
    "    df_copy['BP'] = df_copy.groupby('CHR')['BP'].apply(lambda x: round((x / x.max()) * 1_000_000, 0)).reset_index(level=0, drop=True)\n",
    "    \n",
    "    return df_copy\n"
   ]
  },
  {
   "cell_type": "code",
   "execution_count": 4,
   "id": "9c4e9ee4-3a41-4c4b-9b0d-74e211e3a613",
   "metadata": {},
   "outputs": [],
   "source": [
    "def parse_gtf_file(gtf_file_path):\n",
    "    \"\"\"\n",
    "    Extracts gene_id, start_position, and chromosome information from a GTF file.\n",
    "\n",
    "    Parameters:\n",
    "    gtf_file_path (str): The file path to the GTF file.\n",
    "\n",
    "    Returns:\n",
    "    pd.DataFrame: A DataFrame containing the columns [\"gene_id\", \"start_position\", \"chr\"].\n",
    "    \"\"\"\n",
    "    # Read the GTF file into a DataFrame\n",
    "    gtf_df = pd.read_csv(gtf_file_path, sep='\\t', comment='#', header=None, low_memory=False,\n",
    "                         names=['seqname', 'source', 'feature', 'start', 'end', 'score', 'strand', 'frame', 'attribute'])\n",
    "    \n",
    "    ## Only keep gene entries\n",
    "    gtf_df = gtf_df.loc[gtf_df[\"feature\"] == \"gene\"].copy()\n",
    "    \n",
    "    # Extract the gene_id from the attribute column\n",
    "    gtf_df['gene_id'] = gtf_df['attribute'].str.extract('gene_id \"([^\"]+)\"')\n",
    "    \n",
    "    # Select the useful columns\n",
    "    useful_columns = gtf_df[['gene_id', 'start', 'seqname']].copy().drop_duplicates()\n",
    "    \n",
    "    # Rename the columns to the desired names\n",
    "    useful_columns.columns = ['gene_id', 'start_position', 'chr']\n",
    "    \n",
    "    return useful_columns"
   ]
  },
  {
   "cell_type": "code",
   "execution_count": 5,
   "id": "6c6d2b63-0112-41e0-8561-688455712ca1",
   "metadata": {},
   "outputs": [],
   "source": [
    "def manhattan_plot(df, title='Manhattan Plot', significance_line=-np.log10(5e-8), highlight_colors={'up': '#F8766D', 'down': '#00BFC4'}, \n",
    "                   highlight_genes=None, ylabel = \"-log10(P-value)\", \n",
    "                   output_path = \"./output\"):\n",
    "    \"\"\"\n",
    "    Create a Manhattan plot using matplotlib and seaborn.\n",
    "    \n",
    "    Parameters:\n",
    "    - df: DataFrame containing at least 'CHR', 'BP', 'P', and 'regulation' columns.\n",
    "    - title: Title of the plot.\n",
    "    - significance_line: The y-value (in -log10(p-value) scale) where the significance line is drawn.\n",
    "    - highlight_colors: Dictionary with colors for upregulated and downregulated genes.\n",
    "    - highlight_genes: List of specific genes to highlight. If None, all significant genes are highlighted.\n",
    "    \"\"\"\n",
    "    \n",
    "    mm = (1/25.4)\n",
    "    \n",
    "    # figure size in millimiters\n",
    "    plt.figure(figsize=(180*mm, 90*mm))  # Set the figure size in inches (width, height)\n",
    "    plt.rcParams.update({'font.size': 7})  # Set the font size for the entire figure\n",
    "    \n",
    "    # Standard human chromosomes\n",
    "    standard_chromosomes = [str(i) for i in range(1, 23)] + ['X', 'Y', 'MT']\n",
    "    \n",
    "    # Classify non-standard chromosomes as \"contigs\"\n",
    "    df['CHR'] = df['CHR'].apply(lambda x: x if str(x) in standard_chromosomes else 'contigs')\n",
    "    \n",
    "    # Ensure the chromosomes are ordered correctly\n",
    "    chromosome_order = [str(i) for i in range(1, 23)] + ['X', 'Y', 'MT', 'contigs']\n",
    "    df['CHR'] = pd.Categorical(df['CHR'], categories=chromosome_order, ordered=True)\n",
    "    \n",
    "    # Ensure the data is sorted by chromosome and base pair position\n",
    "    df = df.sort_values(['CHR', 'BP'])\n",
    "    \n",
    "    # Create a new column for -log10(p-value)\n",
    "    df['-log10(P)'] = -np.log10(df['P'])\n",
    "    \n",
    "    # Filter out any rows with non-finite values in BP or -log10(P)\n",
    "    df = df[np.isfinite(df['BP']) & np.isfinite(df['-log10(P)'])]\n",
    "    \n",
    "    # Set up the plot\n",
    "    sns.set(style=\"white\")\n",
    "    \n",
    "    # Define shades of gray for different chromosomes\n",
    "    colors = ['#b0b0b0', '#707070']  # Light and dark gray for alternating chromosomes\n",
    "    \n",
    "    # Create an empty plot\n",
    "    ax = plt.gca()\n",
    "    ax.grid(False)  # Disable grid lines\n",
    "    \n",
    "    # Plot each chromosome with alternating colors\n",
    "    x_labels = []\n",
    "    x_labels_pos = []\n",
    "    last_max_bp = 0\n",
    "    chr_offsets = {}  # Dictionary to store the offset for each chromosome\n",
    "    for i, (chr_num, chr_df) in enumerate(df.groupby('CHR', observed=True)):\n",
    "        chr_offsets[chr_num] = last_max_bp  # Store the offset for each chromosome\n",
    "        chr_df['BP'] = chr_df['BP'].astype(float) + last_max_bp  # Convert BP to float and shift BP positions\n",
    "        ax.scatter(chr_df['BP'], chr_df['-log10(P)'], \n",
    "                   color=colors[i % len(colors)], s=10, alpha=0.6)\n",
    "        x_labels.append(f'{chr_num}')\n",
    "        x_labels_pos.append((chr_df['BP'].max() + chr_df['BP'].min()) / 2)\n",
    "        last_max_bp = chr_df['BP'].max()  # Update the last maximum BP position\n",
    "    \n",
    "    # Add significance line\n",
    "    if significance_line:\n",
    "        plt.axhline(y=significance_line, color='black', linestyle='--', linewidth=1)\n",
    "    \n",
    "    # Highlight genes that pass the significance threshold\n",
    "    significant_genes = df[df['-log10(P)'] >= significance_line]\n",
    "    significant_genes.loc[:, 'CHR'] = significant_genes['CHR'].astype(str)  # Convert CHR to string\n",
    "    significant_genes.loc[:, 'BP'] = significant_genes['BP'].astype(float)  # Convert BP to float\n",
    "    significant_genes.loc[:, 'BP'] += significant_genes['CHR'].map(chr_offsets).astype(float)  # Adjust the BP positions for significant genes\n",
    "    \n",
    "    # Filter significant genes if highlight_genes is provided\n",
    "    if highlight_genes is not None:\n",
    "        significant_highlighted_genes = significant_genes[significant_genes['gene'].isin(highlight_genes)].copy()\n",
    "        significant_genes = significant_genes[~significant_genes['gene'].isin(highlight_genes)].copy()\n",
    "\n",
    "    \n",
    "    # Plot upregulated and downregulated significant genes\n",
    "    upregulated_genes = significant_genes[significant_genes['regulation'] == 'Upregulated in AD']\n",
    "    downregulated_genes = significant_genes[significant_genes['regulation'] == 'Downregulated in AD']\n",
    "\n",
    "    ax.scatter(upregulated_genes['BP'], upregulated_genes['-log10(P)'], \n",
    "           color=\"#FCC2B5\", s=11, label='Upregulated in AD')\n",
    "    ax.scatter(downregulated_genes['BP'], downregulated_genes['-log10(P)'], \n",
    "               color=\"#7FE8EC\", s=11, label='Downregulated in AD')\n",
    "\n",
    "    ## Plot highlighted genes and show names if they exist\n",
    "    if highlight_genes is not None:\n",
    "        \n",
    "        ## Plot highlighted genes\n",
    "        upregulated_highlighted_genes = significant_highlighted_genes[significant_highlighted_genes['regulation'] == 'Upregulated in AD']\n",
    "        downregulated_highlighted_genes = significant_highlighted_genes[significant_highlighted_genes['regulation'] == 'Downregulated in AD']\n",
    "    \n",
    "        ax.scatter(upregulated_highlighted_genes['BP'], upregulated_highlighted_genes['-log10(P)'], \n",
    "               color=highlight_colors['up'], s=35, label='Upregulated in AD', marker=\"o\", edgecolors='black', linewidths=0.3)\n",
    "        ax.scatter(downregulated_highlighted_genes['BP'], downregulated_highlighted_genes['-log10(P)'], \n",
    "                   color=highlight_colors['down'], s=35, label='Downregulated in AD', marker=\"o\", edgecolors='black', linewidths=0.3)\n",
    "        \n",
    "        # Adding gene labels for significant points (assuming 'gene' column exists in the dataframe and highlighted genes exist)\n",
    "        if 'gene' in df.columns:\n",
    "            for i, row in significant_highlighted_genes.iterrows():\n",
    "                # Adjust the BP position based on the chromosome offset\n",
    "                ax.text(row['BP'], row['-log10(P)'], row['gene'], fontsize=7, fontweight='bold')\n",
    "        \n",
    "    \n",
    "\n",
    "    \n",
    "    # Customize plot\n",
    "    plt.xlabel('Chromosome', fontsize=7)\n",
    "    plt.ylabel(ylabel, fontsize=7)\n",
    "    plt.xticks(x_labels_pos, x_labels, rotation=45, fontsize=7)\n",
    "    plt.yticks(fontsize=7)\n",
    "    \n",
    "    # Custom legend\n",
    "    handles, labels = ax.get_legend_handles_labels()\n",
    "    custom_handles = [handles[-4], handles[-3]]  # Only take the last two handles (upregulated and downregulated)\n",
    "    custom_labels = [labels[-4], labels[-3]]  # Only take the last two labels\n",
    "    plt.legend(custom_handles, custom_labels, fontsize=7)\n",
    "    \n",
    "    # Show plot\n",
    "    plt.tight_layout()\n",
    "    output_png = output_path + \".png\"\n",
    "    output_pdf = output_path + \".pdf\"\n",
    "    plt.savefig(output_png,\n",
    "                dpi=1200, transparent=True, bbox_inches=\"tight\")\n",
    "    plt.savefig(output_pdf,\n",
    "                dpi=1200, transparent=True, bbox_inches=\"tight\")\n",
    "    plt.show()\n",
    "    plt.close()"
   ]
  },
  {
   "cell_type": "code",
   "execution_count": 6,
   "id": "fae9f5bb-245a-4d35-8e5a-7569832280e3",
   "metadata": {},
   "outputs": [],
   "source": [
    "def qqplot(data, dist='norm', plot_title='QQ Plot'):\n",
    "    \"\"\"\n",
    "    Generates a QQ plot using Seaborn and Scipy.\n",
    "    \n",
    "    Parameters:\n",
    "    - data: array-like, the data to plot.\n",
    "    - dist: str, the type of distribution to compare against (default is 'norm' for normal distribution).\n",
    "    - plot_title: str, the title of the plot.\n",
    "    \"\"\"\n",
    "    # Generate quantiles and least-squares fit line\n",
    "    (quantiles, values), (slope, intercept, r) = stats.probplot(data, dist=dist)\n",
    "    \n",
    "    # Create the QQ plot\n",
    "    sns.scatterplot(x=quantiles, y=values)\n",
    "    sns.lineplot(x=quantiles, y=slope * quantiles + intercept, color='red')\n",
    "    \n",
    "    # Add plot labels and title\n",
    "    plt.xlabel('Theoretical Quantiles')\n",
    "    plt.ylabel('Sample Quantiles')\n",
    "    plt.title(plot_title)\n",
    "    \n",
    "    # Show the plot\n",
    "    plt.show()"
   ]
  },
  {
   "cell_type": "code",
   "execution_count": 7,
   "id": "d40996fc-ab94-49b7-b452-2ff194048ad7",
   "metadata": {},
   "outputs": [],
   "source": [
    "## Open data\n",
    "df = pd.read_csv(\"../../data/raw_data/supplementary_table_1_Pvalues.csv\")"
   ]
  },
  {
   "cell_type": "code",
   "execution_count": 8,
   "id": "17e57787-7dc7-40cf-b976-cb40aea9ab3f",
   "metadata": {},
   "outputs": [],
   "source": [
    "## Drop non-needed columns\n",
    "df.drop(columns=[\"TXNAME\", \"transcript.log2FC\", \"transcript.padj\", \"iso_biotype\", \"dtu.dIF\", \"dtu.dIF\", \"dtu.gene.padj\", \"dtu.ofdr.gene\", \"dtu.ofdr.transcript\",\n",
    "                 \"threshDT\", \"threshDT\", \"dtu.isoform.padj\", \"threshG\", \"gene_biotype\"], inplace=True)"
   ]
  },
  {
   "cell_type": "code",
   "execution_count": 9,
   "id": "e14aa065-7e88-49dc-89a3-9937159b9a35",
   "metadata": {},
   "outputs": [],
   "source": [
    "## Fix gene names\n",
    "df[\"GENEID\"] = df[\"GENEID\"].str.split(\".\", expand=True)[0]"
   ]
  },
  {
   "cell_type": "code",
   "execution_count": 10,
   "id": "1ea60fd5-be42-4f9f-94c4-ffbd7dac2aae",
   "metadata": {},
   "outputs": [],
   "source": [
    "## Fix column names and orders\n",
    "df.columns = [\"dataset\", \"gene_id\", \"gene_name\", \"log2_fold_change\", \"p_value\", \"pre-calc_padj\"]\n",
    "df = df[[\"gene_id\", \"gene_name\", \"log2_fold_change\", \"p_value\", \"pre-calc_padj\", \"dataset\"]].copy()"
   ]
  },
  {
   "cell_type": "code",
   "execution_count": 11,
   "id": "5a0feaf3-ba74-460a-9730-d0f6dfc2fabb",
   "metadata": {},
   "outputs": [],
   "source": [
    "## Drop duplicates \n",
    "df.drop_duplicates(inplace=True)"
   ]
  },
  {
   "cell_type": "code",
   "execution_count": 12,
   "id": "fb7248dc-c7ed-40c5-a128-d3c8f3cea4bc",
   "metadata": {},
   "outputs": [],
   "source": [
    "## Create reference allelle column\n",
    "df[\"ref_allele\"] = \"AD\"\n",
    "df[\"non_ref_allele\"] = \"Control\""
   ]
  },
  {
   "cell_type": "code",
   "execution_count": 13,
   "id": "e2256efd-b1bb-4ff3-b520-978105e4d752",
   "metadata": {},
   "outputs": [],
   "source": [
    "## Create better gene name option and then delete old\n",
    "df[\"gene_name\"] = df[\"gene_id\"].copy() + \"|\" + df[\"gene_name\"].copy()\n",
    "\n",
    "df.drop(columns=\"gene_id\", inplace=True)"
   ]
  },
  {
   "cell_type": "code",
   "execution_count": 14,
   "id": "47af394c-5ac6-4361-a4bb-f698e20199dd",
   "metadata": {},
   "outputs": [],
   "source": [
    "## Separate Datasets\n",
    "df_MAYO_TL = df.loc[df[\"dataset\"] == \"MAYO\"].copy()\n",
    "df_MSSB_BA10_FL = df.loc[df[\"dataset\"] == \"MSBB BM10\"].copy()\n",
    "df_MSSB_BA22_TL = df.loc[df[\"dataset\"] == \"MSBB BM22\"].copy()\n",
    "df_MSSB_BA36_TL = df.loc[df[\"dataset\"] == \"MSBB BM36\"].copy()\n",
    "df_MSSB_BA44_FL = df.loc[df[\"dataset\"] == \"MSBB BM44\"].copy()\n",
    "df_ROSMAP_FL = df.loc[df[\"dataset\"] == \"ROSMAP\"].copy()"
   ]
  },
  {
   "cell_type": "code",
   "execution_count": 21,
   "id": "5d30b766-246c-4ad6-aeaa-82cd6729cd3d",
   "metadata": {},
   "outputs": [
    {
     "data": {
      "text/html": [
       "<div>\n",
       "<style scoped>\n",
       "    .dataframe tbody tr th:only-of-type {\n",
       "        vertical-align: middle;\n",
       "    }\n",
       "\n",
       "    .dataframe tbody tr th {\n",
       "        vertical-align: top;\n",
       "    }\n",
       "\n",
       "    .dataframe thead th {\n",
       "        text-align: right;\n",
       "    }\n",
       "</style>\n",
       "<table border=\"1\" class=\"dataframe\">\n",
       "  <thead>\n",
       "    <tr style=\"text-align: right;\">\n",
       "      <th></th>\n",
       "      <th>gene_name</th>\n",
       "      <th>log2_fold_change</th>\n",
       "      <th>p_value</th>\n",
       "      <th>pre-calc_padj</th>\n",
       "      <th>dataset</th>\n",
       "      <th>ref_allele</th>\n",
       "      <th>non_ref_allele</th>\n",
       "    </tr>\n",
       "  </thead>\n",
       "  <tbody>\n",
       "    <tr>\n",
       "      <th>0</th>\n",
       "      <td>ENSG00000004059|ARF5</td>\n",
       "      <td>-0.281214</td>\n",
       "      <td>2.494440e-08</td>\n",
       "      <td>0.000813</td>\n",
       "      <td>MAYO</td>\n",
       "      <td>AD</td>\n",
       "      <td>Control</td>\n",
       "    </tr>\n",
       "    <tr>\n",
       "      <th>6</th>\n",
       "      <td>ENSG00000003056|M6PR</td>\n",
       "      <td>-0.144371</td>\n",
       "      <td>1.485970e-08</td>\n",
       "      <td>0.000485</td>\n",
       "      <td>MAYO</td>\n",
       "      <td>AD</td>\n",
       "      <td>Control</td>\n",
       "    </tr>\n",
       "    <tr>\n",
       "      <th>12</th>\n",
       "      <td>ENSG00000173153|ESRRA</td>\n",
       "      <td>-0.011112</td>\n",
       "      <td>2.783160e-05</td>\n",
       "      <td>0.907532</td>\n",
       "      <td>MAYO</td>\n",
       "      <td>AD</td>\n",
       "      <td>Control</td>\n",
       "    </tr>\n",
       "    <tr>\n",
       "      <th>18</th>\n",
       "      <td>ENSG00000004478|FKBP4</td>\n",
       "      <td>0.078499</td>\n",
       "      <td>1.665300e-05</td>\n",
       "      <td>0.543020</td>\n",
       "      <td>MAYO</td>\n",
       "      <td>AD</td>\n",
       "      <td>Control</td>\n",
       "    </tr>\n",
       "    <tr>\n",
       "      <th>24</th>\n",
       "      <td>ENSG00000003137|CYP26B1</td>\n",
       "      <td>0.013968</td>\n",
       "      <td>2.919130e-05</td>\n",
       "      <td>0.951871</td>\n",
       "      <td>MAYO</td>\n",
       "      <td>AD</td>\n",
       "      <td>Control</td>\n",
       "    </tr>\n",
       "  </tbody>\n",
       "</table>\n",
       "</div>"
      ],
      "text/plain": [
       "                  gene_name  log2_fold_change       p_value  pre-calc_padj  \\\n",
       "0      ENSG00000004059|ARF5         -0.281214  2.494440e-08       0.000813   \n",
       "6      ENSG00000003056|M6PR         -0.144371  1.485970e-08       0.000485   \n",
       "12    ENSG00000173153|ESRRA         -0.011112  2.783160e-05       0.907532   \n",
       "18    ENSG00000004478|FKBP4          0.078499  1.665300e-05       0.543020   \n",
       "24  ENSG00000003137|CYP26B1          0.013968  2.919130e-05       0.951871   \n",
       "\n",
       "   dataset ref_allele non_ref_allele  \n",
       "0     MAYO         AD        Control  \n",
       "6     MAYO         AD        Control  \n",
       "12    MAYO         AD        Control  \n",
       "18    MAYO         AD        Control  \n",
       "24    MAYO         AD        Control  "
      ]
     },
     "execution_count": 21,
     "metadata": {},
     "output_type": "execute_result"
    }
   ],
   "source": [
    "df_MAYO_TL.head()"
   ]
  },
  {
   "cell_type": "code",
   "execution_count": 24,
   "id": "b0814350-206a-4227-9675-7311a49c19da",
   "metadata": {},
   "outputs": [],
   "source": [
    "measurements = np.random.normal(loc = 20, scale = 5, size=100)   \n"
   ]
  },
  {
   "cell_type": "code",
   "execution_count": 23,
   "id": "74009bfd-b332-49ab-957e-1468f6307676",
   "metadata": {},
   "outputs": [],
   "source": [
    "import pylab \n"
   ]
  },
  {
   "cell_type": "code",
   "execution_count": 26,
   "id": "c5029583-f31b-4881-8e73-057fd2135f5b",
   "metadata": {},
   "outputs": [
    {
     "data": {
      "image/png": "[encoded data removed]",
      "text/plain": [
       "<Figure size 640x480 with 1 Axes>"
      ]
     },
     "metadata": {},
     "output_type": "display_data"
    }
   ],
   "source": [
    "stats.probplot(measurements, dist=\"norm\", plot=pylab)\n",
    "pylab.show()"
   ]
  },
  {
   "cell_type": "code",
   "execution_count": 33,
   "id": "17afdfee-02f9-4a2b-865f-d40e7583119b",
   "metadata": {},
   "outputs": [
    {
     "data": {
      "text/plain": [
       "count    2.109990e+05\n",
       "mean     1.690081e-05\n",
       "std      1.196288e-05\n",
       "min      4.254510e-56\n",
       "25%      4.314815e-06\n",
       "50%      1.775450e-05\n",
       "75%      3.066730e-05\n",
       "max      3.066730e-05\n",
       "Name: p_value, dtype: float64"
      ]
     },
     "execution_count": 33,
     "metadata": {},
     "output_type": "execute_result"
    }
   ],
   "source": [
    "df[\"p_value\"].describe()"
   ]
  },
  {
   "cell_type": "code",
   "execution_count": 31,
   "id": "5c228a53-f9ab-43fc-a4ae-b2bd1d5b0922",
   "metadata": {},
   "outputs": [
    {
     "data": {
      "text/plain": [
       "<Axes: xlabel='p_value', ylabel='Count'>"
      ]
     },
     "execution_count": 31,
     "metadata": {},
     "output_type": "execute_result"
    },
    {
     "data": {
      "image/png": "[encoded data removed]",
      "text/plain": [
       "<Figure size 640x480 with 1 Axes>"
      ]
     },
     "metadata": {},
     "output_type": "display_data"
    }
   ],
   "source": [
    "sns.histplot(df_MAYO_TL[\"p_value\"])"
   ]
  },
  {
   "cell_type": "code",
   "execution_count": 30,
   "id": "7320f94e-03b1-47f9-aac1-e421bd2e0fb6",
   "metadata": {},
   "outputs": [
    {
     "data": {
      "image/png": "[encoded data removed]",
      "text/plain": [
       "<Figure size 640x480 with 1 Axes>"
      ]
     },
     "metadata": {},
     "output_type": "display_data"
    }
   ],
   "source": [
    "stats.probplot(df_MAYO_TL[\"p_value\"].to_list(), dist=\"norm\", plot=pylab)\n",
    "pylab.show()"
   ]
  },
  {
   "cell_type": "code",
   "execution_count": null,
   "id": "89afdff9-3ecd-4a7d-ab2c-09fb91d56901",
   "metadata": {},
   "outputs": [],
   "source": []
  },
  {
   "cell_type": "code",
   "execution_count": 22,
   "id": "8037b4bf-d3d4-4675-9508-11849bf1806c",
   "metadata": {},
   "outputs": [
    {
     "data": {
      "image/png": "[encoded data removed]",
      "text/plain": [
       "<Figure size 640x480 with 1 Axes>"
      ]
     },
     "metadata": {},
     "output_type": "display_data"
    }
   ],
   "source": [
    "qqplot(df_MAYO_TL[\"pre-calc_padj\"].to_list(), dist='norm', plot_title='QQ Plot')"
   ]
  }
 ],
 "metadata": {
  "kernelspec": {
   "display_name": "Python 3 (ipykernel)",
   "language": "python",
   "name": "python3"
  },
  "language_info": {
   "codemirror_mode": {
    "name": "ipython",
    "version": 3
   },
   "file_extension": ".py",
   "mimetype": "text/x-python",
   "name": "python",
   "nbconvert_exporter": "python",
   "pygments_lexer": "ipython3",
   "version": "3.10.11"
  }
 },
 "nbformat": 4,
 "nbformat_minor": 5
}
