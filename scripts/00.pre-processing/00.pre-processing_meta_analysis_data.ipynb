{
 "cells": [
  {
   "cell_type": "code",
   "execution_count": 1,
   "id": "467021cd-e075-4e12-99d5-f1290dcc50f1",
   "metadata": {},
   "outputs": [],
   "source": [
    "## Load libraries\n",
    "import pandas as pd\n",
    "import numpy as np\n",
    "import mygene\n",
    "import os\n",
    "from scipy.stats import false_discovery_control\n",
    "\n",
    "## Display all rows of pandas dataframes\n",
    "pd.set_option('display.max_rows', None)\n",
    "pd.set_option('display.max_colwidth', None)\n",
    "\n",
    "# Opt into the future behavior for silent downcasting\n",
    "pd.set_option('future.no_silent_downcasting', True)"
   ]
  },
  {
   "cell_type": "code",
   "execution_count": 2,
   "id": "8bb2087d-db12-470f-aca2-ce6f5a6b81f9",
   "metadata": {},
   "outputs": [],
   "source": [
    "def fdr_correction(df, pval_column):\n",
    "    \"\"\"\n",
    "    Perform Benjamini-Hochberg FDR correction on the specified p-value column of a DataFrame.\n",
    "    \n",
    "    Parameters:\n",
    "    df (pd.DataFrame): The input DataFrame.\n",
    "    pval_column (str): The name of the column containing p-values to be corrected.\n",
    "    \n",
    "    Returns:\n",
    "    pd.DataFrame: The DataFrame with an additional column containing the FDR corrected p-values.\n",
    "    \"\"\"\n",
    "    # Sort the p-values and store the original indices\n",
    "    sorted_pvals = np.sort(df[pval_column])\n",
    "    original_indices = np.argsort(df[pval_column])\n",
    "    \n",
    "    # Calculate the rank of each p-value\n",
    "    ranks = np.arange(1, len(sorted_pvals) + 1)\n",
    "    \n",
    "    # Calculate the FDR correction\n",
    "    n = len(sorted_pvals)\n",
    "    adjusted_pvals = sorted_pvals * n / ranks\n",
    "    \n",
    "    # Ensure that the adjusted p-values are not greater than 1\n",
    "    adjusted_pvals = np.minimum(adjusted_pvals, 1)\n",
    "    \n",
    "    # Reverse the sorting\n",
    "    corrected_pvals = np.empty_like(adjusted_pvals)\n",
    "    corrected_pvals[original_indices] = adjusted_pvals\n",
    "    \n",
    "    # Add the corrected p-values as a new column\n",
    "    corrected_column_name = pval_column + '_FDR_corrected'\n",
    "    df[corrected_column_name] = corrected_pvals\n",
    "    \n",
    "    return df"
   ]
  },
  {
   "cell_type": "code",
   "execution_count": 3,
   "id": "15323d60-e44b-4037-8712-1f4b3551b106",
   "metadata": {},
   "outputs": [],
   "source": [
    "## Open data\n",
    "df = pd.read_csv(\"../../data/raw_data/supplementary_table_1.csv\")"
   ]
  },
  {
   "cell_type": "code",
   "execution_count": 4,
   "id": "49a70a78-31db-4833-ad3f-dc59c71878c0",
   "metadata": {},
   "outputs": [],
   "source": [
    "## Drop non-needed columns\n",
    "df.drop(columns=[\"TXNAME\", \"transcript.log2FC\", \"transcript.padj\", \"iso_biotype\", \"dtu.dIF\", \"dtu.dIF\", \"dtu.gene.padj\", \"dtu.ofdr.gene\", \"dtu.ofdr.transcript\",\n",
    "                 \"threshDT\", \"threshDT\", \"dtu.isoform.padj\", \"threshG\", \"gene_biotype\"], inplace=True)"
   ]
  },
  {
   "cell_type": "code",
   "execution_count": 5,
   "id": "57280d11-d492-4397-ab52-4ad5c1e092a0",
   "metadata": {},
   "outputs": [],
   "source": [
    "## Fix gene names\n",
    "df[\"GENEID\"] = df[\"GENEID\"].str.split(\".\", expand=True)[0]"
   ]
  },
  {
   "cell_type": "code",
   "execution_count": 6,
   "id": "a77d4b94-8213-4bd0-9cbb-5bd30489fdf4",
   "metadata": {},
   "outputs": [],
   "source": [
    "## Fix column names and orders\n",
    "df.columns = [\"dataset\", \"gene_id\", \"gene_name\", \"log2_fold_change\", \"FDR_adjusted_p_value\"]\n",
    "df = df[[\"gene_id\", \"gene_name\", \"log2_fold_change\", \"FDR_adjusted_p_value\", \"dataset\"]].copy()"
   ]
  },
  {
   "cell_type": "code",
   "execution_count": 7,
   "id": "3b077d4d-79d1-4fa9-92e3-5a783e0688da",
   "metadata": {},
   "outputs": [],
   "source": [
    "## Create reference allelle column\n",
    "df[\"ref_allele\"] = \"AD\"\n",
    "df[\"non_ref_allele\"] = \"Control\""
   ]
  },
  {
   "cell_type": "code",
   "execution_count": 8,
   "id": "6142b8b1-c3dd-4fe5-84ae-b0ebdd30d67b",
   "metadata": {},
   "outputs": [],
   "source": [
    "## Create better gene name option and then delete old\n",
    "df[\"gene_name\"] = df[\"gene_id\"].copy() + \"|\" + df[\"gene_name\"].copy()\n",
    "\n",
    "df.drop(columns=\"gene_id\", inplace=True)"
   ]
  },
  {
   "cell_type": "code",
   "execution_count": 9,
   "id": "c2fc9b4f-93b2-4ab4-a251-b5911b98d933",
   "metadata": {},
   "outputs": [],
   "source": [
    "## Separate Datasets\n",
    "df_MAYO_TL = df.loc[df[\"dataset\"] == \"MAYO\"].copy()\n",
    "df_MSSB_BA10_FL = df.loc[df[\"dataset\"] == \"MSBB BM10\"].copy()\n",
    "df_MSSB_BA22_TL = df.loc[df[\"dataset\"] == \"MSBB BM22\"].copy()\n",
    "df_ROSMAP_FL = df.loc[df[\"dataset\"] == \"ROSMAP\"].copy()"
   ]
  },
  {
   "cell_type": "code",
   "execution_count": 10,
   "id": "ea9a27a5-7def-4f70-b24a-3f4418a14fdb",
   "metadata": {},
   "outputs": [],
   "source": [
    "## Add sample size (weight) to the datasets\n",
    "df_MAYO_TL[\"sample_size\"] = 160\n",
    "df_MSSB_BA10_FL[\"sample_size\"] = 233\n",
    "df_MSSB_BA22_TL[\"sample_size\"] = 238\n",
    "df_ROSMAP_FL[\"sample_size\"] = 403"
   ]
  },
  {
   "cell_type": "code",
   "execution_count": 11,
   "id": "c36466bc-d29a-427a-aab3-d250d59460cf",
   "metadata": {},
   "outputs": [],
   "source": [
    "## Drop dataset variable\n",
    "df_MAYO_TL.drop(columns=[\"dataset\"], inplace=True)\n",
    "df_MSSB_BA10_FL.drop(columns=[\"dataset\"], inplace=True)\n",
    "df_MSSB_BA22_TL.drop(columns=[\"dataset\"], inplace=True)\n",
    "df_ROSMAP_FL.drop(columns=[\"dataset\"], inplace=True)"
   ]
  },
  {
   "cell_type": "code",
   "execution_count": 12,
   "id": "ccea7a8c-8c92-45d8-ab7d-5fee5c92a35c",
   "metadata": {},
   "outputs": [],
   "source": [
    "## Drop duplicates in each dataset\n",
    "df_MAYO_TL.drop_duplicates(inplace=True)\n",
    "df_MSSB_BA10_FL.drop_duplicates(inplace=True)\n",
    "df_MSSB_BA22_TL.drop_duplicates(inplace=True)\n",
    "df_ROSMAP_FL.drop_duplicates(inplace=True)"
   ]
  },
  {
   "cell_type": "code",
   "execution_count": 13,
   "id": "d61c1272-df03-4cfb-9359-6bacb84db207",
   "metadata": {},
   "outputs": [],
   "source": [
    "## Drop NAs in each dataset\n",
    "df_MAYO_TL.dropna(inplace=True)\n",
    "df_MSSB_BA10_FL.dropna(inplace=True)\n",
    "df_MSSB_BA22_TL.dropna(inplace=True)\n",
    "df_ROSMAP_FL.dropna(inplace=True)"
   ]
  },
  {
   "cell_type": "code",
   "execution_count": 14,
   "id": "09626e03-fb0a-46fd-a88f-03e886f33abf",
   "metadata": {},
   "outputs": [],
   "source": [
    "## Output dataset\n",
    "df_MAYO_TL.to_csv(\"../../data/processed_data/temporal_lobe/MAYO_TL.tsv\", sep=\"\\t\", index=False)\n",
    "df_MSSB_BA10_FL.to_csv(\"../../data/processed_data/frontal_lobe/MSSB_BA10_FL.tsv\", sep=\"\\t\", index=False)\n",
    "df_MSSB_BA22_TL.to_csv(\"../../data/processed_data/temporal_lobe/MSSB_BA22_TL.tsv\", sep=\"\\t\", index=False)\n",
    "df_ROSMAP_FL.to_csv(\"../../data/processed_data/frontal_lobe/ROSMAP_FL.tsv\", sep=\"\\t\", index=False)"
   ]
  }
 ],
 "metadata": {
  "kernelspec": {
   "display_name": "Python 3 (ipykernel)",
   "language": "python",
   "name": "python3"
  },
  "language_info": {
   "codemirror_mode": {
    "name": "ipython",
    "version": 3
   },
   "file_extension": ".py",
   "mimetype": "text/x-python",
   "name": "python",
   "nbconvert_exporter": "python",
   "pygments_lexer": "ipython3",
   "version": "3.10.11"
  }
 },
 "nbformat": 4,
 "nbformat_minor": 5
}
