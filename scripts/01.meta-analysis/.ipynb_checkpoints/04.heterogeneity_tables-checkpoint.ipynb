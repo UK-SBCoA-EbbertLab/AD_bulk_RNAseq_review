{
 "cells": [
  {
   "cell_type": "code",
   "execution_count": 1,
   "id": "4041d2b2-e60c-4f9c-bb6c-024c000669a5",
   "metadata": {},
   "outputs": [],
   "source": [
    "## Import Libraries\n",
    "import pandas as pd\n",
    "import numpy as np\n",
    "from matplotlib_venn import venn2, venn2_circles, venn2_unweighted\n",
    "from matplotlib_venn import venn3, venn3_circles\n",
    "from matplotlib import pyplot as plt\n",
    "%matplotlib inline\n",
    "import seaborn as sns\n",
    "from wordcloud import WordCloud\n",
    "import csv\n",
    "from supervenn import supervenn\n",
    "import os\n",
    "from scipy import stats\n",
    "from biomart import BiomartServer\n",
    "import io\n",
    "from matplotlib import rcParams\n",
    "\n",
    "## Display all rows of pandas dataframes\n",
    "pd.set_option('display.max_rows', None)\n",
    "pd.set_option('display.max_colwidth', None)"
   ]
  },
  {
   "cell_type": "code",
   "execution_count": 2,
   "id": "81101884-59f4-48b8-a2e4-3f1c2cc23a6c",
   "metadata": {},
   "outputs": [],
   "source": [
    "def describe_column_across_dfs(dfs, labels, column):\n",
    "    \"\"\"\n",
    "    Generate a combined description of a specified column across multiple dataframes.\n",
    "    \n",
    "    Parameters:\n",
    "    dfs (list of pd.DataFrame): List of dataframes to describe.\n",
    "    labels (list of str): List of labels corresponding to each dataframe.\n",
    "    column (str): The column name to describe.\n",
    "    \n",
    "    Returns:\n",
    "    pd.DataFrame: A dataframe containing the description of the specified column across all dataframes.\n",
    "    \"\"\"\n",
    "    if len(dfs) != len(labels):\n",
    "        raise ValueError(\"The number of dataframes must match the number of labels\")\n",
    "    \n",
    "    desc_dict = {}\n",
    "    for df, label in zip(dfs, labels):\n",
    "        if column in df.columns:\n",
    "            desc_df = df[column].describe()\n",
    "            desc_dict[label] = desc_df\n",
    "        else:\n",
    "            raise ValueError(f\"Column '{column}' not found in dataframe labeled '{label}'\")\n",
    "    \n",
    "    combined_desc = pd.DataFrame(desc_dict)\n",
    "    combined_desc.reset_index(inplace=True)\n",
    "    combined_desc.rename(columns={'index': 'Statistic'}, inplace=True)\n",
    "    \n",
    "    return combined_desc"
   ]
  },
  {
   "cell_type": "code",
   "execution_count": 3,
   "id": "162f950b-682a-4227-9df0-116fc02fe391",
   "metadata": {},
   "outputs": [],
   "source": [
    "## Import heterogeneity data\n",
    "df_temporal = pd.read_csv(\"../../data/processed_data/temporal_lobe/temporal_lobe_meta-analysis_processed_results.tsv\", sep=\"\\t\")\n",
    "df_frontal = pd.read_csv(\"../../data/processed_data/frontal_lobe/frontal_lobe_meta-analysis_processed_results.tsv\", sep=\"\\t\")"
   ]
  },
  {
   "cell_type": "code",
   "execution_count": 4,
   "id": "2e6e6f93-0bf2-4397-ba5c-0b4fad7d57bb",
   "metadata": {},
   "outputs": [],
   "source": [
    "## Filter only heterogeneity data\n",
    "df_temporal = df_temporal[['chr', 'gene_id', 'gene_symbol', 'regulation', 'heterogeneity_I_squared', 'heterogeneity_Chi_squared',\n",
    "       'heterogeneity_degrees_of_freedom_squared', 'heterogeneity_P-value']]\n",
    "\n",
    "df_frontal = df_frontal[['chr', 'gene_id', 'gene_symbol', 'regulation', 'heterogeneity_I_squared', 'heterogeneity_Chi_squared',\n",
    "       'heterogeneity_degrees_of_freedom_squared', 'heterogeneity_P-value']]"
   ]
  },
  {
   "cell_type": "code",
   "execution_count": 5,
   "id": "08614329-ff0a-4ed0-8cf2-2eb710dc67e7",
   "metadata": {},
   "outputs": [],
   "source": [
    "## Dataframe lists\n",
    "df_list = [df_temporal, df_frontal]\n",
    "df_labels = [\"temporal_lobe_i_squared_statistics\", \"frontal_lobe_i_squared_statistics\"]"
   ]
  },
  {
   "cell_type": "code",
   "execution_count": 6,
   "id": "3e738a7a-97f6-4782-b439-900c65fef08c",
   "metadata": {},
   "outputs": [],
   "source": [
    "## Create description dataframe\n",
    "describe_df = describe_column_across_dfs(dfs=df_list, labels=df_labels, column=\"heterogeneity_I_squared\")"
   ]
  },
  {
   "cell_type": "code",
   "execution_count": 7,
   "id": "7141e06c-4a60-42e2-8c0f-652f968aa828",
   "metadata": {},
   "outputs": [],
   "source": [
    "describe_df.to_csv(\"../../data/processed_data/heterogeneity/heterogeneity_i_squared_statistics.tsv\", sep=\"\\t\", index=False)"
   ]
  },
  {
   "cell_type": "code",
   "execution_count": 1,
   "id": "4d4e85c3-33b5-4207-b245-21d1ce4440f4",
   "metadata": {},
   "outputs": [
    {
     "ename": "NameError",
     "evalue": "name 'describe_df' is not defined",
     "output_type": "error",
     "traceback": [
      "\u001b[0;31m---------------------------------------------------------------------------\u001b[0m",
      "\u001b[0;31mNameError\u001b[0m                                 Traceback (most recent call last)",
      "Cell \u001b[0;32mIn[1], line 1\u001b[0m\n\u001b[0;32m----> 1\u001b[0m \u001b[43mdescribe_df\u001b[49m\n",
      "\u001b[0;31mNameError\u001b[0m: name 'describe_df' is not defined"
     ]
    }
   ],
   "source": [
    "describe_df"
   ]
  }
 ],
 "metadata": {
  "kernelspec": {
   "display_name": "Python 3 (ipykernel)",
   "language": "python",
   "name": "python3"
  },
  "language_info": {
   "codemirror_mode": {
    "name": "ipython",
    "version": 3
   },
   "file_extension": ".py",
   "mimetype": "text/x-python",
   "name": "python",
   "nbconvert_exporter": "python",
   "pygments_lexer": "ipython3",
   "version": "3.10.11"
  }
 },
 "nbformat": 4,
 "nbformat_minor": 5
}
