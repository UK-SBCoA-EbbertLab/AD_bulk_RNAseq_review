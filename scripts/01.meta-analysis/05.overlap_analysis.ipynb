{
 "cells": [
  {
   "cell_type": "code",
   "execution_count": 1,
   "id": "4041d2b2-e60c-4f9c-bb6c-024c000669a5",
   "metadata": {},
   "outputs": [],
   "source": [
    "## Import Libraries\n",
    "import pandas as pd\n",
    "import numpy as np\n",
    "from matplotlib_venn import venn2, venn2_circles, venn2_unweighted\n",
    "from matplotlib_venn import venn3, venn3_circles\n",
    "from matplotlib import pyplot as plt\n",
    "%matplotlib inline\n",
    "import seaborn as sns\n",
    "from wordcloud import WordCloud\n",
    "import csv\n",
    "from supervenn import supervenn\n",
    "import os\n",
    "from scipy import stats\n",
    "from biomart import BiomartServer\n",
    "import io\n",
    "from matplotlib import rcParams\n",
    "\n",
    "## Display all rows of pandas dataframes\n",
    "pd.set_option('display.max_rows', None)\n",
    "pd.set_option('display.max_colwidth', None)"
   ]
  },
  {
   "cell_type": "code",
   "execution_count": 2,
   "id": "162f950b-682a-4227-9df0-116fc02fe391",
   "metadata": {},
   "outputs": [],
   "source": [
    "## Import heterogeneity data\n",
    "df_temporal = pd.read_csv(\"../../data/processed_data/temporal_lobe/temporal_lobe_meta-analysis_processed_results.tsv\", sep=\"\\t\")\n",
    "df_frontal = pd.read_csv(\"../../data/processed_data/frontal_lobe/frontal_lobe_meta-analysis_processed_results.tsv\", sep=\"\\t\")"
   ]
  },
  {
   "cell_type": "code",
   "execution_count": 3,
   "id": "5a5a8730-128d-4f64-95d8-633e5008d584",
   "metadata": {},
   "outputs": [],
   "source": [
    "## Filter temporal columns\n",
    "df_temporal = df_temporal.loc[df_temporal[\"regulation\"] != \"Not differentially expressed\"].copy()\n",
    "df_temporal = df_temporal[[\"gene_id\", \"gene_symbol\", \"regulation\"]]\n",
    "df_temporal.columns = [\"gene_id\", \"gene_symbol\", \"regulation_temporal\"]\n",
    "\n",
    "## Filter frontal columns\n",
    "df_frontal = df_frontal.loc[df_frontal[\"regulation\"] != \"Not differentially expressed\"].copy()\n",
    "df_frontal = df_frontal[[\"gene_id\", \"gene_symbol\", \"regulation\"]]\n",
    "df_frontal.columns = [\"gene_id\", \"gene_symbol\", \"regulation_frontal\"]"
   ]
  },
  {
   "cell_type": "code",
   "execution_count": 4,
   "id": "e97ea61f-20b6-43d3-81ad-5c6d5042558d",
   "metadata": {},
   "outputs": [],
   "source": [
    "## Merge dataframes\n",
    "df = df_temporal.merge(df_frontal, on=[\"gene_id\", \"gene_symbol\"], how=\"inner\")"
   ]
  },
  {
   "cell_type": "code",
   "execution_count": 5,
   "id": "7141e06c-4a60-42e2-8c0f-652f968aa828",
   "metadata": {},
   "outputs": [],
   "source": [
    "## Save the dataframe\n",
    "df.to_csv(\"../../data/processed_data/overlap_analysis/overlap_differential_expression.tsv\", sep=\"\\t\", index=False)"
   ]
  }
 ],
 "metadata": {
  "kernelspec": {
   "display_name": "Python 3 (ipykernel)",
   "language": "python",
   "name": "python3"
  },
  "language_info": {
   "codemirror_mode": {
    "name": "ipython",
    "version": 3
   },
   "file_extension": ".py",
   "mimetype": "text/x-python",
   "name": "python",
   "nbconvert_exporter": "python",
   "pygments_lexer": "ipython3",
   "version": "3.10.11"
  }
 },
 "nbformat": 4,
 "nbformat_minor": 5
}
