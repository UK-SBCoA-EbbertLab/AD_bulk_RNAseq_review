{
 "cells": [
  {
   "cell_type": "code",
   "execution_count": 1,
   "id": "4041d2b2-e60c-4f9c-bb6c-024c000669a5",
   "metadata": {},
   "outputs": [],
   "source": [
    "## Import Libraries\n",
    "import pandas as pd\n",
    "import numpy as np\n",
    "from matplotlib_venn import venn2, venn2_circles, venn2_unweighted\n",
    "from matplotlib_venn import venn3, venn3_circles\n",
    "from matplotlib import pyplot as plt\n",
    "%matplotlib inline\n",
    "import seaborn as sns\n",
    "from wordcloud import WordCloud\n",
    "import csv\n",
    "from supervenn import supervenn\n",
    "import os\n",
    "from scipy import stats\n",
    "\n",
    "## Display all rows of pandas dataframes\n",
    "pd.set_option('display.max_rows', None)\n",
    "pd.set_option('display.max_colwidth', None)\n",
    "\n"
   ]
  },
  {
   "cell_type": "code",
   "execution_count": 2,
   "id": "162f950b-682a-4227-9df0-116fc02fe391",
   "metadata": {},
   "outputs": [],
   "source": [
    "## Import all the data from the different meta analyses\n",
    "df_all = pd.read_csv(\"../../data/processed_data/meta-analysis/meta-analysis_results/ALL_META_ANALYSIS1.tsv\", sep=\"\\t\")\n",
    "df_temporal_all = pd.read_csv(\"../../data/processed_data/meta-analysis/meta-analysis_results/TEMPORAL_CORTEX_ALL_META_ANALYSIS1.tsv\", sep=\"\\t\")\n",
    "df_temporal_whole_brain = pd.read_csv(\"../../data/processed_data/meta-analysis/meta-analysis_results/TEMPORAL_CORTEX_WHOLE_BRAIN_HOMOGENATE_META_ANALYSIS1.tsv\", sep=\"\\t\")\n"
   ]
  },
  {
   "cell_type": "code",
   "execution_count": 3,
   "id": "2a6d479f-5a0c-4bcf-add8-b8df05cb32cb",
   "metadata": {},
   "outputs": [],
   "source": [
    "## Add adjusted p-value\n",
    "df_all[\"P-value_adjusted\"] = stats.false_discovery_control(df_all[\"P-value\"], method=\"bh\")\n",
    "df_temporal_all[\"P-value_adjusted\"] = stats.false_discovery_control(df_temporal_all[\"P-value\"], method=\"bh\")\n",
    "df_temporal_whole_brain[\"P-value_adjusted\"] = stats.false_discovery_control(df_temporal_whole_brain[\"P-value\"], method=\"bh\")"
   ]
  },
  {
   "cell_type": "code",
   "execution_count": 4,
   "id": "3f9226a3-a218-4997-89b9-4ee9dd4d14d6",
   "metadata": {},
   "outputs": [],
   "source": [
    "## Filter only genes that pass significance threshold\n",
    "df_all_filtered = df_all.loc[df_all[\"P-value_adjusted\"] < 0.05].copy()\n",
    "df_temporal_all_filtered = df_temporal_all.loc[df_temporal_all[\"P-value_adjusted\"] < 0.05].copy()\n",
    "df_temporal_whole_brain_filtered = df_temporal_whole_brain.loc[df_temporal_whole_brain[\"P-value_adjusted\"] < 0.05].copy()"
   ]
  },
  {
   "cell_type": "code",
   "execution_count": 5,
   "id": "5c183ede-b650-4161-a50c-b92cdc3c22f7",
   "metadata": {},
   "outputs": [],
   "source": [
    "## Save processed meta-analysis data\n",
    "df_all.to_csv(\"../../data/processed_data/meta-analysis/meta-analysis_results/ALL_META_ANALYSIS1_PROCESSED.tsv\", index=False, sep=\"\\t\")\n",
    "df_temporal_all.to_csv(\"../../data/processed_data/meta-analysis/meta-analysis_results/TEMPORAL_CORTEX_ALL_META_ANALYSIS1_PROCESSED.tsv\", index=False, sep=\"\\t\")\n",
    "df_temporal_whole_brain.to_csv(\"../../data/processed_data/meta-analysis/meta-analysis_results/TEMPORAL_CORTEX_WHOLE_BRAIN_HOMOGENATE_META_ANALYSIS1_PROCESSED.tsv\", index=False, sep=\"\\t\")\n",
    "\n",
    "## Save filtered meta-analysis data\n",
    "df_all_filtered.to_csv(\"../../data/processed_data/meta-analysis/meta-analysis_results/ALL_META_ANALYSIS1_FILTERED.tsv\", index=False, sep=\"\\t\")\n",
    "df_temporal_all_filtered.to_csv(\"../../data/processed_data/meta-analysis/meta-analysis_results/TEMPORAL_CORTEX_ALL_META_ANALYSIS1_FILTERED.tsv\", index=False, sep=\"\\t\")\n",
    "df_temporal_whole_brain_filtered.to_csv(\"../../data/processed_data/meta-analysis/meta-analysis_results/TEMPORAL_CORTEX_WHOLE_BRAIN_HOMOGENATE_META_ANALYSIS1_FILTERED.tsv\", index=False, sep=\"\\t\")"
   ]
  }
 ],
 "metadata": {
  "kernelspec": {
   "display_name": "Python 3 (ipykernel)",
   "language": "python",
   "name": "python3"
  },
  "language_info": {
   "codemirror_mode": {
    "name": "ipython",
    "version": 3
   },
   "file_extension": ".py",
   "mimetype": "text/x-python",
   "name": "python",
   "nbconvert_exporter": "python",
   "pygments_lexer": "ipython3",
   "version": "3.10.11"
  }
 },
 "nbformat": 4,
 "nbformat_minor": 5
}
