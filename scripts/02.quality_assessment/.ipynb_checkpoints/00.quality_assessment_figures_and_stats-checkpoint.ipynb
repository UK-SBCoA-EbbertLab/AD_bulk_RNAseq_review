{
 "cells": [
  {
   "cell_type": "code",
   "execution_count": 1,
   "id": "ff8dde66-bf12-48c6-bf50-a3a27a8fbaa4",
   "metadata": {},
   "outputs": [],
   "source": [
    "## Import Libraries\n",
    "import pandas as pd\n",
    "import numpy as np\n",
    "from matplotlib_venn import venn2, venn2_circles, venn2_unweighted\n",
    "from matplotlib_venn import venn3, venn3_circles\n",
    "from matplotlib import pyplot as plt\n",
    "%matplotlib inline\n",
    "import seaborn as sns\n",
    "from wordcloud import WordCloud\n",
    "import csv\n",
    "from supervenn import supervenn\n",
    "import os\n",
    "from scipy import stats\n",
    "from biomart import BiomartServer\n",
    "import io\n",
    "from matplotlib import rcParams\n",
    "from scipy import stats\n",
    "\n",
    "\n",
    "## Display all rows of pandas dataframes\n",
    "pd.set_option('display.max_rows', None)\n",
    "pd.set_option('display.max_colwidth', None)"
   ]
  },
  {
   "cell_type": "code",
   "execution_count": 2,
   "id": "c34ca548-754e-4759-9044-398b7a93eda5",
   "metadata": {},
   "outputs": [],
   "source": [
    "## Import data\n",
    "\n",
    "df = pd.read_csv(\"../../data/raw_data/quality_assessment.csv\").dropna()"
   ]
  },
  {
   "cell_type": "code",
   "execution_count": 3,
   "id": "043c1a14-a167-4bf9-961b-0f45249fb6de",
   "metadata": {},
   "outputs": [],
   "source": [
    "## Create columns\n",
    "columns = ['sample_size ', 'sex_and_ethnicity', 'ad_diagnose_criteria',\n",
    "       'control_matching', 'transcript_level_analysis', 'results_validation',\n",
    "       'sequencing_depth', 'statistical_rigor', 'data_availability',\n",
    "       'reproducibility', 'average_score_per_study']"
   ]
  },
  {
   "cell_type": "code",
   "execution_count": 4,
   "id": "8c5e999c-820a-4d99-a1b3-a052a0791250",
   "metadata": {},
   "outputs": [],
   "source": [
    "## define ggplot colors\n",
    "ggplot2_colors = [\"#F8766D\", \"#CD9600\", \"#7CAE00\", \"#00BE67\", \"#00BFC4\", \"#00A9FF\", \"#C77CFF\", \"#FF61CC\"]"
   ]
  },
  {
   "cell_type": "code",
   "execution_count": 5,
   "id": "5e87d7f4-33fb-432c-b3e8-9ea73dff39d4",
   "metadata": {},
   "outputs": [
    {
     "data": {
      "image/png": "[encoded data removed]",
      "text/plain": [
       "<Figure size 640x480 with 1 Axes>"
      ]
     },
     "metadata": {},
     "output_type": "display_data"
    }
   ],
   "source": [
    "# Initialize an empty list to store the correlation results\n",
    "total_list = []\n",
    "\n",
    "# Loop through each column in the list of columns\n",
    "for column in columns:\n",
    "    # Clear the current figure to avoid overlapping plots from previous iterations\n",
    "    plt.clf()\n",
    "    \n",
    "    # Create a regression plot using seaborn\n",
    "    sns.regplot(data=df, x=\"year\", y=column, color=ggplot2_colors[4], lowess=True,\n",
    "               scatter_kws={\"alpha\": 0.8, \"s\": 12}, line_kws={\"linewidth\": 0}, x_jitter=0.1, y_jitter=0.1)\n",
    "    \n",
    "    # Calculate the Spearman correlation coefficient and p-value\n",
    "    spearman_coeff, spearman_p = stats.spearmanr(df[\"year\"].copy(), df[column].copy())\n",
    "\n",
    "    # Create a list with the current column's results\n",
    "    current_list = [\"year\", column, round(spearman_coeff, 2), round((spearman_coeff * spearman_coeff), 2), spearman_p]\n",
    "    # Append the current results to the total list\n",
    "    total_list.append(current_list)\n",
    "\n",
    "    # Generate the output file name for the plot\n",
    "    output_name = \"../../figures/supplement/quality_assessment_\" + column + \"_year\"\n",
    "\n",
    "    # Save the plot as a PDF file with high resolution\n",
    "    plt.savefig(output_name + \".pdf\",\n",
    "                dpi=1200, transparent=True, bbox_inches=\"tight\")\n",
    "\n",
    "    # Save the plot as a PNG file with high resolution\n",
    "    plt.savefig(output_name + \".png\",\n",
    "                dpi=1200, transparent=True, bbox_inches=\"tight\")\n",
    "\n",
    "# Create a DataFrame from the list of correlation results\n",
    "df_correlations = pd.DataFrame(total_list, columns=['X', 'Y', 'Spearman Coefficient', \"R Squared\", \"Spearman P-value\"])"
   ]
  },
  {
   "cell_type": "code",
   "execution_count": 6,
   "id": "02d662bb-f88d-4157-9ffa-04bdd354f4c4",
   "metadata": {
    "scrolled": true
   },
   "outputs": [],
   "source": [
    "## Save correlations table\n",
    "df_correlations.to_csv(\"../../data/processed_data/quality_assessment/quality_assessment_correlations.tsv\", sep=\"\\t\", index=True)"
   ]
  }
 ],
 "metadata": {
  "kernelspec": {
   "display_name": "Python 3 (ipykernel)",
   "language": "python",
   "name": "python3"
  },
  "language_info": {
   "codemirror_mode": {
    "name": "ipython",
    "version": 3
   },
   "file_extension": ".py",
   "mimetype": "text/x-python",
   "name": "python",
   "nbconvert_exporter": "python",
   "pygments_lexer": "ipython3",
   "version": "3.10.11"
  }
 },
 "nbformat": 4,
 "nbformat_minor": 5
}
