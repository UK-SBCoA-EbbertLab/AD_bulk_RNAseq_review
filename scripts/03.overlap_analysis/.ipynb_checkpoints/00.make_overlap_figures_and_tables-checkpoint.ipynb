{
 "cells": [
  {
   "cell_type": "code",
   "execution_count": 1,
   "id": "56dddbdc-5928-4d42-a6c2-8038d94b50c6",
   "metadata": {},
   "outputs": [],
   "source": [
    "## Import Libraries\n",
    "import pandas as pd\n",
    "import numpy as np\n",
    "from matplotlib_venn import venn2, venn2_circles, venn2_unweighted\n",
    "from matplotlib_venn import venn3, venn3_circles\n",
    "from matplotlib import pyplot as plt\n",
    "%matplotlib inline\n",
    "import seaborn as sns\n",
    "from wordcloud import WordCloud\n",
    "import csv\n",
    "from supervenn import supervenn\n",
    "import os\n",
    "import mygene\n",
    "from matplotlib import rcParams\n",
    "\n",
    "\n",
    "\n",
    "## Display all rows of pandas dataframes\n",
    "pd.set_option('display.max_rows', None)\n",
    "pd.set_option('display.max_colwidth', None)"
   ]
  },
  {
   "cell_type": "code",
   "execution_count": 2,
   "id": "8654258f-1a41-4b69-b66e-87747d9f1452",
   "metadata": {},
   "outputs": [],
   "source": [
    "def unify_gene_ids_and_symbols(df):\n",
    "\n",
    "    ## Make a copy to use in function\n",
    "    dff = df.copy()\n",
    "    \n",
    "    ## Take out . from ensembl ids\n",
    "    dff[\"ensembl_id\"] = dff[\"ensembl_id\"].str.split(\".\", expand=True)[0]\n",
    "\n",
    "    # Standardize all NaN-like values to pd.NA\n",
    "    dff = dff.replace({np.nan: pd.NA, None: pd.NA})\n",
    "\n",
    "    ## Set gene ids that are not ensembl IDs to NA\n",
    "    dff['ensembl_id'] = dff['ensembl_id'].apply(lambda x: x if pd.isna(x) or str(x).startswith('ENS') else pd.NA)\n",
    "\n",
    "    ## Get all the unique gene_id and gene_symbols\n",
    "    df_ids = dff[\"ensembl_id\"].copy().drop_duplicates(inplace=False).dropna(inplace=False).to_list()\n",
    "\n",
    "    ## Query by gene_ids and gene_symbols\n",
    "    mg = mygene.MyGeneInfo()\n",
    "    results_id_query = mg.querymany(df_ids, scopes='symbol,alias,name,ensembl.gene,ensembl.transcript', fields='symbol,ensembl.gene', species='human', as_dataframe=True, df_index=False, returnall=False)\n",
    "\n",
    "    ## Delete duplicates, only keep highest value\n",
    "    results_id_query = results_id_query.sort_values(by=['query', '_score'], ascending=[True, False]).drop_duplicates(subset='query', keep='first')\n",
    "    \n",
    "    # Ensure that the column 'ensembl' is of string type, which allows the use of string methods\n",
    "    results_id_query[\"ensembl\"] = results_id_query[\"ensembl\"].astype(str)\n",
    "    \n",
    "    # Split the strings and handle NaNs by chaining the .str methods\n",
    "    results_id_query[\"first_ensembl\"] = results_id_query[\"ensembl\"].str.split(\":\", expand=True)[1].str.split(\"'\", expand=True)[1]\n",
    "\n",
    "    \n",
    "    # Standardize all NaN-like values to pd.NA\n",
    "    results_id_query = results_id_query.replace({np.nan: pd.NA, None: pd.NA, \"nan\": pd.NA})\n",
    "    \n",
    "    # Fill NA values in 'ensembl.gene' column with values from 'first_ensembl' column\n",
    "    results_id_query['ensembl.gene'] = results_id_query['ensembl.gene'].copy().fillna(results_id_query['first_ensembl'], inplace=False)\n",
    "\n",
    "    ## Only keep relevant columns\n",
    "    results_id_query = results_id_query[[\"query\", \"ensembl.gene\", \"symbol\"]].copy()\n",
    "\n",
    "    ## Rename columns\n",
    "    results_id_query.columns = [\"ensembl_id\", \"from_id_ensembl_id\", \"from_id_official_gene_symbol\"]\n",
    "\n",
    "    results_id_query.drop_duplicates(inplace=True)\n",
    "\n",
    "    \n",
    "    ## Merge with original dataframe\n",
    "    dff = dff.merge(results_id_query, how=\"left\", on=\"ensembl_id\")\n",
    "\n",
    "    ## Combine results from both approaches (symbol and id)\n",
    "    dff['official_symbol'] = dff['from_id_official_gene_symbol'].copy()\n",
    "\n",
    "    ## Drop intermediate columns\n",
    "    dff.drop(columns=[\"from_id_ensembl_id\", \"from_id_official_gene_symbol\"], inplace=True)\n",
    "\n",
    "    ## Drop anything that is missing both ensembl_id and official_symbol\n",
    "    dff.dropna(subset=[\"ensembl_id\", \"official_symbol\"], how=\"all\", inplace=True)\n",
    "    \n",
    "    ## Drop Duplicates\n",
    "    dff.drop_duplicates(inplace=True)\n",
    "    \n",
    "    ## Make ensembl id and official symbol the first two columns \n",
    "    dff = dff[dff.columns[-2:].tolist() + dff.columns[:-2].tolist()].copy()\n",
    "\n",
    "    return dff"
   ]
  },
  {
   "cell_type": "code",
   "execution_count": 3,
   "id": "53291ed8-c8cf-4aa8-8c64-471ee8223d2f",
   "metadata": {},
   "outputs": [],
   "source": [
    "import os\n",
    "import pandas as pd\n",
    "\n",
    "def get_dataframes_with_string(path: str, search_string: str) -> list:\n",
    "    \"\"\"\n",
    "    Reads all CSV files in the specified directory that contain the given search string \n",
    "    in their filenames and returns a list of pandas DataFrames.\n",
    "    \n",
    "    Parameters:\n",
    "    path (str): The directory path where the CSV files are located.\n",
    "    search_string (str): The string to search for in the filenames.\n",
    "    \n",
    "    Returns:\n",
    "    list: A list of pandas DataFrames, each corresponding to a CSV file whose name contains \n",
    "          the search string.\n",
    "          \n",
    "    Example:\n",
    "    --------\n",
    "    >>> dataframes = get_dataframes_with_string('/path/to/csv/files', 'example')\n",
    "    >>> for df in dataframes:\n",
    "    >>>     print(df)\n",
    "    \"\"\"\n",
    "    dataframes = []\n",
    "    \n",
    "    # Iterate over all files in the given directory\n",
    "    for filename in os.listdir(path):\n",
    "        # Check if the file is a CSV file and contains the search string in its name\n",
    "        if filename.endswith(\".csv\") and search_string in filename:\n",
    "            # Create the full file path\n",
    "            file_path = os.path.join(path, filename)\n",
    "            # Read the CSV file into a dataframe\n",
    "            df = pd.read_csv(file_path)\n",
    "            # Append the dataframe to the list\n",
    "            dataframes.append(df)\n",
    "    \n",
    "    return dataframes"
   ]
  },
  {
   "cell_type": "code",
   "execution_count": 4,
   "id": "2629bcba-58d0-49b9-bf72-afe654e1ee44",
   "metadata": {},
   "outputs": [],
   "source": [
    "def analyze_gene_data(dataframes: list) -> tuple:\n",
    "    \"\"\"\n",
    "    Analyzes a list of dataframes to extract gene names that are upregulated \n",
    "    and downregulated in Alzheimer's Disease (AD) and the study names.\n",
    "    \n",
    "    Parameters:\n",
    "    dataframes (list): A list of pandas DataFrames, each containing columns \n",
    "                       'gene_name' (str), 'is_upregulated_in_AD' (bool), and 'study' (str).\n",
    "    \n",
    "    Returns:\n",
    "    tuple: A tuple containing four elements:\n",
    "           1. A list of sets, each set containing gene names that are upregulated in AD for each dataframe.\n",
    "           2. A list of sets, each set containing gene names that are downregulated in AD for each dataframe.\n",
    "           3. A list of strings with the study name for each dataframe.\n",
    "           4. A pandas DataFrame with a row for each gene name and a column for each study, \n",
    "              indicating if the gene is upregulated, downregulated, or missing in each study.\n",
    "    \n",
    "    Example:\n",
    "    --------\n",
    "    >>> dfs = [df1, df2, df3]\n",
    "    >>> upregulated_genes, downregulated_genes, study_names, gene_summary_df = analyze_gene_data(dfs)\n",
    "    >>> print(upregulated_genes)\n",
    "    >>> print(downregulated_genes)\n",
    "    >>> print(study_names)\n",
    "    >>> print(gene_summary_df)\n",
    "    \"\"\"\n",
    "    # Initialize lists to store the upregulated and downregulated genes for each dataframe\n",
    "    upregulated_genes = []\n",
    "    downregulated_genes = []\n",
    "    study_names = []\n",
    "    \n",
    "    # Initialize a set to keep track of all unique gene names across all dataframes\n",
    "    all_genes = set()\n",
    "\n",
    "    # Iterate over each dataframe in the input list\n",
    "    for df in dataframes:\n",
    "        # Identify the set of upregulated genes in the current dataframe\n",
    "        upregulated_set = set(df[df['is_upregulated_in_AD']]['gene_name'])\n",
    "        # Identify the set of downregulated genes in the current dataframe\n",
    "        downregulated_set = set(df[~df['is_upregulated_in_AD']]['gene_name'])\n",
    "        # Extract the study name from the 'study' column of the current dataframe\n",
    "        study_name = df['study'].iloc[0] if not df['study'].empty else None\n",
    "        \n",
    "        # Append the sets of upregulated and downregulated genes to their respective lists\n",
    "        upregulated_genes.append(upregulated_set)\n",
    "        downregulated_genes.append(downregulated_set)\n",
    "        # Append the study name to the study names list\n",
    "        study_names.append(study_name)\n",
    "        # Update the set of all unique genes with the genes from the current dataframe\n",
    "        all_genes.update(upregulated_set)\n",
    "        all_genes.update(downregulated_set)\n",
    "    \n",
    "    # Create a DataFrame to summarize the gene regulation status across all studies\n",
    "    gene_summary_df = pd.DataFrame(index=sorted(all_genes))\n",
    "\n",
    "    # Iterate over each dataframe again to fill the summary DataFrame\n",
    "    for idx, df in enumerate(dataframes):\n",
    "        # Get the study name for the current dataframe\n",
    "        study_name = study_names[idx]\n",
    "        # Initialize the column for the current study with 'missing' status\n",
    "        gene_summary_df[study_name] = \"missing\"\n",
    "        # Get the sets of upregulated and downregulated genes for the current dataframe\n",
    "        upregulated_set = upregulated_genes[idx]\n",
    "        downregulated_set = downregulated_genes[idx]\n",
    "        \n",
    "        # Mark the upregulated genes in the current study as 'upregulated'\n",
    "        gene_summary_df.loc[list(upregulated_set), study_name] = \"upregulated\"\n",
    "        # Mark the downregulated genes in the current study as 'downregulated'\n",
    "        gene_summary_df.loc[list(downregulated_set), study_name] = \"downregulated\"\n",
    "\n",
    "    # Add columns for the number of upregulated and downregulated studies\n",
    "    gene_summary_df['upregulated_count'] = (gene_summary_df == 'upregulated').sum(axis=1)\n",
    "    gene_summary_df['downregulated_count'] = (gene_summary_df == 'downregulated').sum(axis=1)\n",
    "    \n",
    "    # Reset the index to turn the index into a column\n",
    "    gene_summary_df.reset_index(inplace=True)\n",
    "    # Rename the index column to 'gene_name'\n",
    "    gene_summary_df.rename(columns={'index': 'gene_name'}, inplace=True)\n",
    "    \n",
    "\n",
    "    # Return the lists of upregulated and downregulated genes, study names, and the summary DataFrame\n",
    "    return upregulated_genes, downregulated_genes, study_names, gene_summary_df"
   ]
  },
  {
   "cell_type": "code",
   "execution_count": 5,
   "id": "d15d32c2-89ba-4dbc-99e5-30d2d80a96fa",
   "metadata": {},
   "outputs": [],
   "source": [
    "## Open meta-analysis data\n",
    "temporal_meta = pd.read_csv(\"../../data/processed_data/temporal_lobe/temporal_lobe_meta-analysis_processed_results.tsv\", sep=\"\\t\")\n",
    "frontal_meta = pd.read_csv(\"../../data/processed_data/frontal_lobe/frontal_lobe_meta-analysis_processed_results.tsv\", sep=\"\\t\")"
   ]
  },
  {
   "cell_type": "code",
   "execution_count": 6,
   "id": "852c3e00-9a34-4e72-b85e-fc8251436935",
   "metadata": {},
   "outputs": [],
   "source": [
    "temporal_meta_up = temporal_meta.loc[temporal_meta['regulation'] == \"Upregulated in AD\"].copy()\n",
    "temporal_meta_down = temporal_meta.loc[temporal_meta['regulation'] == \"Downregulated in AD\"].copy()\n",
    "frontal_meta_up = frontal_meta.loc[frontal_meta['regulation'] == \"Upregulated in AD\"].copy()\n",
    "frontal_meta_down = frontal_meta.loc[frontal_meta['regulation'] == \"Downregulated in AD\"].copy()"
   ]
  },
  {
   "cell_type": "code",
   "execution_count": 7,
   "id": "4b94884c-66d1-4dd0-942b-8cabefab3274",
   "metadata": {},
   "outputs": [],
   "source": [
    "## Load data for each brain region\n",
    "temporal_up = pd.read_csv(\"../../data/processed_data/other_studies_DEGs/temporal_up_in_AD.csv\")\n",
    "temporal_down = pd.read_csv(\"../../data/processed_data/other_studies_DEGs/temporal_down_in_AD.csv\")\n",
    "frontal_up = pd.read_csv(\"../../data/processed_data/other_studies_DEGs/frontal_up_in_AD.csv\")\n",
    "frontal_down = pd.read_csv(\"../../data/processed_data/other_studies_DEGs/frontal_down_in_AD.csv\")"
   ]
  },
  {
   "cell_type": "code",
   "execution_count": 8,
   "id": "57009924-35cf-46aa-a10f-dd79211ab136",
   "metadata": {},
   "outputs": [],
   "source": [
    "## Make Marques-Coelho into 1 study\n",
    "temporal_up.loc[temporal_up[\"study\"].str.startswith(\"Marques\"), \"study\"] = \"Marques-Coelho_et_al\"\n",
    "temporal_down.loc[temporal_down[\"study\"].str.startswith(\"Marques\"), \"study\"] = \"Marques-Coelho_et_al\"\n",
    "frontal_up.loc[frontal_up[\"study\"].str.startswith(\"Marques\"), \"study\"] = \"Marques-Coelho_et_al\"\n",
    "frontal_down.loc[frontal_down[\"study\"].str.startswith(\"Marques\"), \"study\"] = \"Marques-Coelho_et_al\""
   ]
  },
  {
   "cell_type": "code",
   "execution_count": 9,
   "id": "73e65fe9-a9fc-4c75-a9e3-c41a030c0b3a",
   "metadata": {},
   "outputs": [],
   "source": [
    "## Drop duplicates\n",
    "temporal_up.drop_duplicates(inplace=True)\n",
    "temporal_down.drop_duplicates(inplace=True)\n",
    "frontal_up.drop_duplicates(inplace=True)\n",
    "frontal_down.drop_duplicates(inplace=True)"
   ]
  },
  {
   "cell_type": "code",
   "execution_count": 10,
   "id": "66b1abab-f937-41fa-a95b-2a34a88c36fa",
   "metadata": {},
   "outputs": [
    {
     "name": "stderr",
     "output_type": "stream",
     "text": [
      "146 input query terms found no hit:\t['ENSG00000231865', 'ENSG00000268759', 'ENSG00000197846', 'ENSG00000176034', 'ENSG00000264868', 'ENS\n",
      "1 input query terms found dup hits:\t[('ENSG00000230373', 2)]\n",
      "120 input query terms found no hit:\t['ENSG00000235261', 'ENSG00000272091', 'ENSG00000269871', 'ENSG00000270172', 'ENSG00000232224', 'ENS\n",
      "1 input query terms found no hit:\t['ENSG00000184258']\n",
      "13 input query terms found no hit:\t['ENSG00000270188', 'ENSG00000256618', 'ENSG00000270672', 'ENSG00000255823', 'ENSG00000269028', 'ENS\n"
     ]
    }
   ],
   "source": [
    "## Unify gene symbols\n",
    "temporal_up = unify_gene_ids_and_symbols(temporal_up)\n",
    "temporal_down = unify_gene_ids_and_symbols(temporal_down)\n",
    "frontal_up = unify_gene_ids_and_symbols(frontal_up)\n",
    "frontal_down = unify_gene_ids_and_symbols(frontal_down)"
   ]
  },
  {
   "cell_type": "code",
   "execution_count": 11,
   "id": "2d9b2259-634a-4cd7-8590-1a8bd9fb7445",
   "metadata": {},
   "outputs": [],
   "source": [
    "## Create unique hits dataframe\n",
    "temporal_up_unique = temporal_meta_up.loc[~temporal_meta_up[\"gene_id\"].isin(temporal_up['ensembl_id'])]\n",
    "temporal_down_unique = temporal_meta_down.loc[~temporal_meta_down[\"gene_id\"].isin(temporal_down['ensembl_id'])]\n",
    "frontal_up_unique = frontal_meta_up.loc[~frontal_meta_up[\"gene_id\"].isin(frontal_up['ensembl_id'])]\n",
    "frontal_down_unique = frontal_meta_down.loc[~frontal_meta_down[\"gene_id\"].isin(frontal_down['ensembl_id'])]"
   ]
  },
  {
   "cell_type": "code",
   "execution_count": 12,
   "id": "a157a870-f48f-498e-89f9-1436862013bf",
   "metadata": {},
   "outputs": [],
   "source": [
    "## Look at overlap between other studies and our DEGs\n",
    "temporal_up = temporal_up.loc[temporal_up[\"ensembl_id\"].isin(temporal_meta_up['gene_id'])]\n",
    "temporal_down = temporal_down.loc[temporal_down[\"ensembl_id\"].isin(temporal_meta_down['gene_id'])]\n",
    "frontal_up = frontal_up.loc[frontal_up[\"ensembl_id\"].isin(frontal_meta_up['gene_id'])]\n",
    "frontal_down = frontal_down.loc[frontal_down[\"ensembl_id\"].isin(frontal_meta_down['gene_id'])]\n"
   ]
  },
  {
   "cell_type": "code",
   "execution_count": 13,
   "id": "629059df-ca5d-4452-bcf1-aa8e62493765",
   "metadata": {},
   "outputs": [],
   "source": [
    "# Count occurrences of each value in the 'Category' column and store it in a DataFrame\n",
    "temporal_up_counts = temporal_up.groupby('ensembl_id').agg(\n",
    "    Count=('ensembl_id', 'size'),\n",
    "    Studies=('study', lambda x: ', '.join(x))\n",
    ").reset_index()\n",
    "\n",
    "temporal_down_counts = temporal_down.groupby('ensembl_id').agg(\n",
    "    Count=('ensembl_id', 'size'),\n",
    "    Studies=('study', lambda x: ', '.join(x))\n",
    ").reset_index()\n",
    "\n",
    "frontal_up_counts = frontal_up.groupby('ensembl_id').agg(\n",
    "    Count=('ensembl_id', 'size'),\n",
    "    Studies=('study', lambda x: ', '.join(x))\n",
    ").reset_index()\n",
    "\n",
    "frontal_down_counts = frontal_down.groupby('ensembl_id').agg(\n",
    "    Count=('ensembl_id', 'size'),\n",
    "    Studies=('study', lambda x: ', '.join(x))\n",
    ").reset_index()\n",
    "\n"
   ]
  },
  {
   "cell_type": "code",
   "execution_count": 14,
   "id": "5bd8fce6-4c5f-417e-90b7-1683f846b15b",
   "metadata": {},
   "outputs": [],
   "source": [
    "## Clean up add dataframe\n",
    "temporal_up_unique_add = temporal_up_unique[[\"gene_id\", \"regulation\"]].copy()\n",
    "temporal_down_unique_add = temporal_down_unique[[\"gene_id\", \"regulation\"]].copy()\n",
    "frontal_up_unique_add = frontal_up_unique[[\"gene_id\", \"regulation\"]].copy()\n",
    "frontal_down_unique_add = frontal_down_unique[[\"gene_id\", \"regulation\"]].copy()\n",
    "\n",
    "temporal_up_unique_add[\"Counts\"] = 0\n",
    "temporal_down_unique_add[\"Counts\"] = 0\n",
    "frontal_up_unique_add[\"Counts\"] = 0\n",
    "frontal_down_unique_add[\"Counts\"] = 0"
   ]
  },
  {
   "cell_type": "code",
   "execution_count": 15,
   "id": "b85e7683-a550-40e1-8195-50e3f7b59262",
   "metadata": {},
   "outputs": [],
   "source": [
    "## Drop regulation column\n",
    "temporal_up_unique_add.drop(columns=\"regulation\", inplace=True)\n",
    "temporal_down_unique_add.drop(columns=\"regulation\", inplace=True)\n",
    "frontal_up_unique_add.drop(columns=\"regulation\", inplace=True)\n",
    "frontal_down_unique_add.drop(columns=\"regulation\", inplace=True)"
   ]
  },
  {
   "cell_type": "code",
   "execution_count": 16,
   "id": "5c9aefc1-8fb7-48ee-8c63-4497084fd351",
   "metadata": {},
   "outputs": [],
   "source": [
    "## Define studies Column\n",
    "temporal_up_unique_add[\"Studies\"] = np.NaN\n",
    "temporal_down_unique_add[\"Studies\"] = np.NaN\n",
    "frontal_up_unique_add[\"Studies\"] = np.NaN\n",
    "frontal_down_unique_add[\"Studies\"] = np.NaN"
   ]
  },
  {
   "cell_type": "code",
   "execution_count": 17,
   "id": "f0cdcc1e-3363-4d59-b445-ba80584f994f",
   "metadata": {},
   "outputs": [],
   "source": [
    "## Change the column names\n",
    "temporal_up_unique_add.columns = [\"ensembl_id\", \"Count\", \"Studies\"]\n",
    "temporal_down_unique_add.columns = [\"ensembl_id\", \"Count\", \"Studies\"]\n",
    "frontal_up_unique_add.columns = [\"ensembl_id\", \"Count\", \"Studies\"]\n",
    "frontal_down_unique_add.columns = [\"ensembl_id\", \"Count\", \"Studies\"]"
   ]
  },
  {
   "cell_type": "code",
   "execution_count": 18,
   "id": "1ab3f37b-730b-4ea8-a624-9160cabc5c02",
   "metadata": {},
   "outputs": [],
   "source": [
    "## Concatenate\n",
    "temporal_up_counts = pd.concat([temporal_up_counts, temporal_up_unique_add])\n",
    "temporal_down_counts = pd.concat([temporal_down_counts, temporal_down_unique_add])\n",
    "frontal_up_counts = pd.concat([frontal_up_counts, frontal_up_unique_add])\n",
    "frontal_down_counts = pd.concat([frontal_down_counts, frontal_down_unique_add])"
   ]
  },
  {
   "cell_type": "code",
   "execution_count": 19,
   "id": "1ec357e4-00ea-46d3-8045-9c6044aa0491",
   "metadata": {},
   "outputs": [],
   "source": [
    "## Add regulation\n",
    "temporal_up_counts[\"regulation\"] = \"Upregulated in AD\"\n",
    "temporal_down_counts[\"regulation\"] = \"Downregulated in AD\"\n",
    "frontal_up_counts[\"regulation\"] = \"Upregulated in AD\"\n",
    "frontal_down_counts[\"regulation\"] = \"Downregulated in AD\""
   ]
  },
  {
   "cell_type": "code",
   "execution_count": 20,
   "id": "27ece40a-e676-4fc0-bc39-b5b13eb56f60",
   "metadata": {},
   "outputs": [],
   "source": [
    "## Concatenate\n",
    "temporal_counts = pd.concat([temporal_up_counts, temporal_down_counts])\n",
    "frontal_counts = pd.concat([frontal_up_counts, frontal_down_counts])"
   ]
  },
  {
   "cell_type": "code",
   "execution_count": 21,
   "id": "4a10d25e-a825-470c-816f-0158fd8b2759",
   "metadata": {},
   "outputs": [],
   "source": [
    "## Setup figure size\n",
    "mm = (1/25.4)\n",
    "\n",
    "## define ggplot colors\n",
    "ggplot2_colors = [\"#F8766D\", \"#CD9600\", \"#7CAE00\", \"#00BE67\", \"#00BFC4\", \"#00A9FF\", \"#C77CFF\", \"#FF61CC\"]"
   ]
  },
  {
   "cell_type": "code",
   "execution_count": 22,
   "id": "d88ec35c-0217-4c0c-ac5c-d5e09d2a8d21",
   "metadata": {},
   "outputs": [
    {
     "data": {
      "image/png": "[encoded data removed]",
      "text/plain": [
       "<Figure size 787.402x255.906 with 1 Axes>"
      ]
     },
     "metadata": {},
     "output_type": "display_data"
    }
   ],
   "source": [
    "plt.figure(figsize=(200*mm, 65*mm))  # Set the figure size in inches (width, height)\n",
    "plt.rcParams.update({'font.size': 7})  # Set the font size for the entire figure\n",
    "\n",
    "## Make median CPM > 1 gene body number of exons plot and save both as pdf.\n",
    "\n",
    "ax = sns.countplot(x=temporal_counts[\"Count\"], hue=temporal_counts[\"regulation\"], palette=[ggplot2_colors[0], ggplot2_colors[4]], saturation=1)\n",
    "\n",
    "for container in ax.containers:\n",
    "    ax.bar_label(container)\n",
    "\n",
    "plt.xlabel(\"Number of studies overlapping DEGs with our meta-analysis (out of 8 temporal lobe studies)\")\n",
    "plt.ylabel(\"Number of overlapping DEGs\")\n",
    "plt.ylim(0, 180)\n",
    "\n",
    "plt.savefig('../../figures/main/temporal_lobe_overlap.pdf',\n",
    "            dpi=1200, transparent=True, bbox_inches=\"tight\")\n",
    "plt.savefig('../../figures/main/temporal_lobe_overlap.png',\n",
    "            dpi=1200, transparent=True, bbox_inches=\"tight\")\n",
    "\n",
    "plt.show()"
   ]
  },
  {
   "cell_type": "code",
   "execution_count": 23,
   "id": "9b024b8c-8d84-4af3-8059-957de4e6c701",
   "metadata": {},
   "outputs": [
    {
     "data": {
      "image/png": "[encoded data removed]",
      "text/plain": [
       "<Figure size 787.402x255.906 with 1 Axes>"
      ]
     },
     "metadata": {},
     "output_type": "display_data"
    }
   ],
   "source": [
    "plt.figure(figsize=(200*mm, 65*mm))  # Set the figure size in inches (width, height)\n",
    "plt.rcParams.update({'font.size': 7})  # Set the font size for the entire figure\n",
    "\n",
    "## Make median CPM > 1 gene body number of exons plot and save both as pdf.\n",
    "\n",
    "ax = sns.countplot(x=frontal_counts[\"Count\"], hue=frontal_counts[\"regulation\"], palette=[ggplot2_colors[0], ggplot2_colors[4]], saturation=1)\n",
    "\n",
    "for container in ax.containers:\n",
    "    ax.bar_label(container)\n",
    "\n",
    "plt.xlabel(\"Number of studies overlapping DEGs with our meta-analysis (out of 3 frontal lobe studies)\")\n",
    "plt.ylabel(\"Number of overlapping DEGs\")\n",
    "plt.ylim(0, 100)\n",
    "\n",
    "plt.savefig('../../figures/main/frontal_lobe_overlap.pdf',\n",
    "            dpi=1200, transparent=True, bbox_inches=\"tight\")\n",
    "plt.savefig('../../figures/main/frontal_lobe_overlap.png',\n",
    "            dpi=1200, transparent=True, bbox_inches=\"tight\")\n",
    "\n",
    "plt.show()"
   ]
  },
  {
   "cell_type": "code",
   "execution_count": 24,
   "id": "8d50ff54-2e3f-4f4b-b47d-bcd690e50f7c",
   "metadata": {},
   "outputs": [],
   "source": [
    "## Adjust column names\n",
    "temporal_meta.columns = ['chr', 'ensembl_id', 'gene_symbol', 'P-value', 'Zscore', 'Direction',\n",
    "       'regulation', 'heterogeneity_I_squared', 'heterogeneity_Chi_squared',\n",
    "       'heterogeneity_degrees_of_freedom_squared', 'heterogeneity_P-value']\n",
    "frontal_meta.columns = ['chr', 'ensembl_id', 'gene_symbol', 'P-value', 'Zscore', 'Direction',\n",
    "       'regulation', 'heterogeneity_I_squared', 'heterogeneity_Chi_squared',\n",
    "       'heterogeneity_degrees_of_freedom_squared', 'heterogeneity_P-value']"
   ]
  },
  {
   "cell_type": "code",
   "execution_count": 25,
   "id": "e1d1da96-4fc7-491c-aa02-0ef5345e33cf",
   "metadata": {},
   "outputs": [],
   "source": [
    "## Add gene symbol\n",
    "temporal_counts = temporal_counts.merge(temporal_meta[[\"ensembl_id\", \"gene_symbol\"]], on=\"ensembl_id\", how=\"inner\")\n",
    "frontal_counts = frontal_counts.merge(frontal_meta[[\"ensembl_id\", \"gene_symbol\"]], on=\"ensembl_id\", how=\"inner\")"
   ]
  },
  {
   "cell_type": "code",
   "execution_count": 26,
   "id": "f232e3a8-acd1-45bf-80b4-6d0765193a19",
   "metadata": {},
   "outputs": [],
   "source": [
    "## Make gene symbol the first column\n",
    "temporal_counts = temporal_counts[[\"ensembl_id\", \"gene_symbol\", \"Count\", \"Studies\", \"regulation\"]]\n",
    "frontal_counts = frontal_counts[[\"ensembl_id\", \"gene_symbol\", \"Count\", \"Studies\", \"regulation\"]]\n",
    "\n",
    "## Change column names\n",
    "temporal_counts.columns = [\"gene_id\", \"gene_symbol\", \"count\", \"studies\", \"regulation\"]\n",
    "frontal_counts.columns = [\"gene_id\", \"gene_symbol\", \"count\", \"studies\", \"regulation\"]"
   ]
  },
  {
   "cell_type": "code",
   "execution_count": 27,
   "id": "7661f7e0-a81d-417e-bbf0-107e5b9cdc9c",
   "metadata": {},
   "outputs": [],
   "source": [
    "## Sort table\n",
    "temporal_counts.sort_values(by=[\"regulation\", \"count\"], ascending=[False, False], inplace=True)\n",
    "frontal_counts.sort_values(by=[\"regulation\", \"count\"], ascending=[False, False], inplace=True)"
   ]
  },
  {
   "cell_type": "code",
   "execution_count": 28,
   "id": "feaba5a0-7e15-42cb-a926-d8474b807005",
   "metadata": {},
   "outputs": [],
   "source": [
    "## Write output\n",
    "temporal_counts.to_csv(\"../../data/processed_data/other_studies_DEGs/temporal_counts_all_overlap.tsv\", sep=\"\\t\", index=False)\n",
    "frontal_counts.to_csv(\"../../data/processed_data/other_studies_DEGs/frontal_counts_all_overlap.tsv\", sep=\"\\t\", index=False)"
   ]
  },
  {
   "cell_type": "code",
   "execution_count": 29,
   "id": "faf8de41-7682-416e-88ed-09b985ff5ca5",
   "metadata": {},
   "outputs": [],
   "source": [
    "## Create unique genes table\n",
    "temporal_counts_unique_final = temporal_counts.loc[temporal_counts[\"count\"] == 0].copy()\n",
    "temporal_counts_unique_final = temporal_counts_unique_final.merge(temporal_meta[[\"gene_symbol\", \"P-value\", \"Direction\"]], on=\"gene_symbol\", how=\"inner\")\n",
    "temporal_counts_unique_final.drop(columns=[\"count\", \"studies\"], inplace=True)    \n",
    "temporal_counts_unique_final = temporal_counts_unique_final[[\"gene_id\", \"gene_symbol\", \"Direction\", \"regulation\", \"P-value\"]]\n",
    "\n",
    "frontal_counts_unique_final = frontal_counts.loc[frontal_counts[\"count\"] == 0].copy()\n",
    "frontal_counts_unique_final = frontal_counts_unique_final.merge(frontal_meta[[\"gene_symbol\", \"P-value\", \"Direction\"]], on=\"gene_symbol\", how=\"inner\")\n",
    "frontal_counts_unique_final.drop(columns=[\"count\", \"studies\"], inplace=True)       \n",
    "frontal_counts_unique_final = frontal_counts_unique_final[[\"gene_id\", \"gene_symbol\", \"Direction\", \"regulation\", \"P-value\"]]"
   ]
  },
  {
   "cell_type": "code",
   "execution_count": 30,
   "id": "2e2fa7d9-2458-4783-b30d-dee66d1b5f1e",
   "metadata": {},
   "outputs": [],
   "source": [
    "## Write output\n",
    "temporal_counts_unique_final.to_csv(\"../../data/processed_data/other_studies_DEGs/temporal_unique.tsv\", sep=\"\\t\", index=False)\n",
    "frontal_counts_unique_final.to_csv(\"../../data/processed_data/other_studies_DEGs/frontal_unique.tsv\", sep=\"\\t\", index=False)"
   ]
  }
 ],
 "metadata": {
  "kernelspec": {
   "display_name": "Python 3 (ipykernel)",
   "language": "python",
   "name": "python3"
  },
  "language_info": {
   "codemirror_mode": {
    "name": "ipython",
    "version": 3
   },
   "file_extension": ".py",
   "mimetype": "text/x-python",
   "name": "python",
   "nbconvert_exporter": "python",
   "pygments_lexer": "ipython3",
   "version": "3.10.11"
  }
 },
 "nbformat": 4,
 "nbformat_minor": 5
}
